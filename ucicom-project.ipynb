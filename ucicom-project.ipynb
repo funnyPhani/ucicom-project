{
 "cells": [
  {
   "cell_type": "code",
   "execution_count": 23,
   "id": "d9fa6139",
   "metadata": {
    "papermill": {
     "duration": 1.542825,
     "end_time": "2023-01-18T12:07:14.178808",
     "exception": false,
     "start_time": "2023-01-18T12:07:12.635983",
     "status": "completed"
    },
    "tags": []
   },
   "outputs": [],
   "source": [
    "import pandas as pd\n",
    "import numpy as np\n",
    "import matplotlib.pyplot as plt\n",
    "import seaborn as sns\n",
    "from sklearn.model_selection import train_test_split\n",
    "from sklearn.preprocessing import LabelEncoder\n",
    "import xgboost as xgb\n",
    "from sklearn.utils.class_weight import compute_sample_weight\n",
    "from sklearn.preprocessing import StandardScaler\n",
    "from sklearn.metrics import confusion_matrix\n",
    "from sklearn.metrics import classification_report\n",
    "from mlxtend.plotting import plot_confusion_matrix\n",
    "import warnings\n",
    "warnings.filterwarnings(\"ignore\")"
   ]
  },
  {
   "cell_type": "markdown",
   "id": "2209999d",
   "metadata": {
    "papermill": {
     "duration": 0.014848,
     "end_time": "2023-01-18T12:07:14.207181",
     "exception": false,
     "start_time": "2023-01-18T12:07:14.192333",
     "status": "completed"
    },
    "tags": []
   },
   "source": [
    "## 1.Explore data"
   ]
  },
  {
   "cell_type": "code",
   "execution_count": 24,
   "id": "1a2fb604",
   "metadata": {
    "papermill": {
     "duration": 0.380528,
     "end_time": "2023-01-18T12:07:14.600995",
     "exception": false,
     "start_time": "2023-01-18T12:07:14.220467",
     "status": "completed"
    },
    "tags": []
   },
   "outputs": [
    {
     "data": {
      "text/html": [
       "<div>\n",
       "<style scoped>\n",
       "    .dataframe tbody tr th:only-of-type {\n",
       "        vertical-align: middle;\n",
       "    }\n",
       "\n",
       "    .dataframe tbody tr th {\n",
       "        vertical-align: top;\n",
       "    }\n",
       "\n",
       "    .dataframe thead th {\n",
       "        text-align: right;\n",
       "    }\n",
       "</style>\n",
       "<table border=\"1\" class=\"dataframe\">\n",
       "  <thead>\n",
       "    <tr style=\"text-align: right;\">\n",
       "      <th></th>\n",
       "      <th>Time</th>\n",
       "      <th>0</th>\n",
       "      <th>1</th>\n",
       "      <th>2</th>\n",
       "      <th>3</th>\n",
       "      <th>4</th>\n",
       "      <th>5</th>\n",
       "      <th>6</th>\n",
       "      <th>7</th>\n",
       "      <th>8</th>\n",
       "      <th>...</th>\n",
       "      <th>581</th>\n",
       "      <th>582</th>\n",
       "      <th>583</th>\n",
       "      <th>584</th>\n",
       "      <th>585</th>\n",
       "      <th>586</th>\n",
       "      <th>587</th>\n",
       "      <th>588</th>\n",
       "      <th>589</th>\n",
       "      <th>Pass/Fail</th>\n",
       "    </tr>\n",
       "  </thead>\n",
       "  <tbody>\n",
       "    <tr>\n",
       "      <th>615</th>\n",
       "      <td>2008-08-31 22:32:00</td>\n",
       "      <td>2956.18</td>\n",
       "      <td>2435.99</td>\n",
       "      <td>2171.8556</td>\n",
       "      <td>940.9917</td>\n",
       "      <td>1.2906</td>\n",
       "      <td>100.0</td>\n",
       "      <td>103.4733</td>\n",
       "      <td>0.1234</td>\n",
       "      <td>1.4635</td>\n",
       "      <td>...</td>\n",
       "      <td>40.2536</td>\n",
       "      <td>0.4983</td>\n",
       "      <td>0.0100</td>\n",
       "      <td>0.0026</td>\n",
       "      <td>2.0112</td>\n",
       "      <td>0.0192</td>\n",
       "      <td>0.0077</td>\n",
       "      <td>0.0021</td>\n",
       "      <td>40.2536</td>\n",
       "      <td>-1</td>\n",
       "    </tr>\n",
       "    <tr>\n",
       "      <th>1404</th>\n",
       "      <td>2008-07-10 17:06:00</td>\n",
       "      <td>2893.19</td>\n",
       "      <td>2498.09</td>\n",
       "      <td>2200.2111</td>\n",
       "      <td>1048.3108</td>\n",
       "      <td>1.6485</td>\n",
       "      <td>100.0</td>\n",
       "      <td>98.3222</td>\n",
       "      <td>0.1214</td>\n",
       "      <td>1.5471</td>\n",
       "      <td>...</td>\n",
       "      <td>NaN</td>\n",
       "      <td>0.4954</td>\n",
       "      <td>0.0106</td>\n",
       "      <td>0.0030</td>\n",
       "      <td>2.1397</td>\n",
       "      <td>0.0458</td>\n",
       "      <td>0.0277</td>\n",
       "      <td>0.0100</td>\n",
       "      <td>60.5430</td>\n",
       "      <td>-1</td>\n",
       "    </tr>\n",
       "    <tr>\n",
       "      <th>225</th>\n",
       "      <td>2008-08-17 01:53:00</td>\n",
       "      <td>2999.86</td>\n",
       "      <td>2287.90</td>\n",
       "      <td>2197.6444</td>\n",
       "      <td>1247.0334</td>\n",
       "      <td>0.7865</td>\n",
       "      <td>100.0</td>\n",
       "      <td>99.9211</td>\n",
       "      <td>0.1203</td>\n",
       "      <td>1.4785</td>\n",
       "      <td>...</td>\n",
       "      <td>31.4679</td>\n",
       "      <td>0.5047</td>\n",
       "      <td>0.0124</td>\n",
       "      <td>0.0038</td>\n",
       "      <td>2.4550</td>\n",
       "      <td>0.0265</td>\n",
       "      <td>0.0083</td>\n",
       "      <td>0.0029</td>\n",
       "      <td>31.4679</td>\n",
       "      <td>-1</td>\n",
       "    </tr>\n",
       "    <tr>\n",
       "      <th>142</th>\n",
       "      <td>2008-06-08 20:17:00</td>\n",
       "      <td>2989.63</td>\n",
       "      <td>2364.73</td>\n",
       "      <td>2196.6555</td>\n",
       "      <td>1066.1908</td>\n",
       "      <td>1.2188</td>\n",
       "      <td>100.0</td>\n",
       "      <td>101.8900</td>\n",
       "      <td>0.1211</td>\n",
       "      <td>1.4921</td>\n",
       "      <td>...</td>\n",
       "      <td>31.2736</td>\n",
       "      <td>0.5064</td>\n",
       "      <td>0.0117</td>\n",
       "      <td>0.0028</td>\n",
       "      <td>2.3099</td>\n",
       "      <td>0.0348</td>\n",
       "      <td>0.0109</td>\n",
       "      <td>0.0040</td>\n",
       "      <td>31.2736</td>\n",
       "      <td>-1</td>\n",
       "    </tr>\n",
       "    <tr>\n",
       "      <th>1212</th>\n",
       "      <td>2008-01-10 07:19:00</td>\n",
       "      <td>3070.43</td>\n",
       "      <td>2446.38</td>\n",
       "      <td>2255.5222</td>\n",
       "      <td>1763.0739</td>\n",
       "      <td>1.2226</td>\n",
       "      <td>100.0</td>\n",
       "      <td>101.5878</td>\n",
       "      <td>0.1200</td>\n",
       "      <td>1.6122</td>\n",
       "      <td>...</td>\n",
       "      <td>41.0611</td>\n",
       "      <td>0.4983</td>\n",
       "      <td>0.0113</td>\n",
       "      <td>0.0031</td>\n",
       "      <td>2.2765</td>\n",
       "      <td>0.0212</td>\n",
       "      <td>0.0087</td>\n",
       "      <td>0.0032</td>\n",
       "      <td>41.0611</td>\n",
       "      <td>-1</td>\n",
       "    </tr>\n",
       "  </tbody>\n",
       "</table>\n",
       "<p>5 rows × 592 columns</p>\n",
       "</div>"
      ],
      "text/plain": [
       "                     Time        0        1          2          3       4  \\\n",
       "615   2008-08-31 22:32:00  2956.18  2435.99  2171.8556   940.9917  1.2906   \n",
       "1404  2008-07-10 17:06:00  2893.19  2498.09  2200.2111  1048.3108  1.6485   \n",
       "225   2008-08-17 01:53:00  2999.86  2287.90  2197.6444  1247.0334  0.7865   \n",
       "142   2008-06-08 20:17:00  2989.63  2364.73  2196.6555  1066.1908  1.2188   \n",
       "1212  2008-01-10 07:19:00  3070.43  2446.38  2255.5222  1763.0739  1.2226   \n",
       "\n",
       "          5         6       7       8  ...      581     582     583     584  \\\n",
       "615   100.0  103.4733  0.1234  1.4635  ...  40.2536  0.4983  0.0100  0.0026   \n",
       "1404  100.0   98.3222  0.1214  1.5471  ...      NaN  0.4954  0.0106  0.0030   \n",
       "225   100.0   99.9211  0.1203  1.4785  ...  31.4679  0.5047  0.0124  0.0038   \n",
       "142   100.0  101.8900  0.1211  1.4921  ...  31.2736  0.5064  0.0117  0.0028   \n",
       "1212  100.0  101.5878  0.1200  1.6122  ...  41.0611  0.4983  0.0113  0.0031   \n",
       "\n",
       "         585     586     587     588      589  Pass/Fail  \n",
       "615   2.0112  0.0192  0.0077  0.0021  40.2536         -1  \n",
       "1404  2.1397  0.0458  0.0277  0.0100  60.5430         -1  \n",
       "225   2.4550  0.0265  0.0083  0.0029  31.4679         -1  \n",
       "142   2.3099  0.0348  0.0109  0.0040  31.2736         -1  \n",
       "1212  2.2765  0.0212  0.0087  0.0032  41.0611         -1  \n",
       "\n",
       "[5 rows x 592 columns]"
      ]
     },
     "execution_count": 24,
     "metadata": {},
     "output_type": "execute_result"
    }
   ],
   "source": [
    "df = pd.read_csv('uci-secom.csv')\n",
    "df.sample(5)"
   ]
  },
  {
   "cell_type": "code",
   "execution_count": 25,
   "id": "5a9071e6",
   "metadata": {
    "papermill": {
     "duration": 0.027715,
     "end_time": "2023-01-18T12:07:14.642595",
     "exception": false,
     "start_time": "2023-01-18T12:07:14.614880",
     "status": "completed"
    },
    "tags": []
   },
   "outputs": [],
   "source": [
    "target = 'Pass/Fail'"
   ]
  },
  {
   "cell_type": "code",
   "execution_count": 26,
   "id": "a09f2ee1",
   "metadata": {
    "papermill": {
     "duration": 1.328839,
     "end_time": "2023-01-18T12:07:15.985799",
     "exception": false,
     "start_time": "2023-01-18T12:07:14.656960",
     "status": "completed"
    },
    "tags": []
   },
   "outputs": [
    {
     "data": {
      "text/html": [
       "<div>\n",
       "<style scoped>\n",
       "    .dataframe tbody tr th:only-of-type {\n",
       "        vertical-align: middle;\n",
       "    }\n",
       "\n",
       "    .dataframe tbody tr th {\n",
       "        vertical-align: top;\n",
       "    }\n",
       "\n",
       "    .dataframe thead th {\n",
       "        text-align: right;\n",
       "    }\n",
       "</style>\n",
       "<table border=\"1\" class=\"dataframe\">\n",
       "  <thead>\n",
       "    <tr style=\"text-align: right;\">\n",
       "      <th></th>\n",
       "      <th>0</th>\n",
       "      <th>1</th>\n",
       "      <th>2</th>\n",
       "      <th>3</th>\n",
       "      <th>4</th>\n",
       "      <th>5</th>\n",
       "      <th>6</th>\n",
       "      <th>7</th>\n",
       "      <th>8</th>\n",
       "      <th>9</th>\n",
       "      <th>...</th>\n",
       "      <th>581</th>\n",
       "      <th>582</th>\n",
       "      <th>583</th>\n",
       "      <th>584</th>\n",
       "      <th>585</th>\n",
       "      <th>586</th>\n",
       "      <th>587</th>\n",
       "      <th>588</th>\n",
       "      <th>589</th>\n",
       "      <th>Pass/Fail</th>\n",
       "    </tr>\n",
       "  </thead>\n",
       "  <tbody>\n",
       "    <tr>\n",
       "      <th>count</th>\n",
       "      <td>1561.000000</td>\n",
       "      <td>1560.000000</td>\n",
       "      <td>1553.000000</td>\n",
       "      <td>1553.000000</td>\n",
       "      <td>1553.000000</td>\n",
       "      <td>1553.0</td>\n",
       "      <td>1553.000000</td>\n",
       "      <td>1558.000000</td>\n",
       "      <td>1565.000000</td>\n",
       "      <td>1565.000000</td>\n",
       "      <td>...</td>\n",
       "      <td>618.000000</td>\n",
       "      <td>1566.000000</td>\n",
       "      <td>1566.000000</td>\n",
       "      <td>1566.000000</td>\n",
       "      <td>1566.000000</td>\n",
       "      <td>1566.000000</td>\n",
       "      <td>1566.000000</td>\n",
       "      <td>1566.000000</td>\n",
       "      <td>1566.000000</td>\n",
       "      <td>1567.000000</td>\n",
       "    </tr>\n",
       "    <tr>\n",
       "      <th>mean</th>\n",
       "      <td>3014.452896</td>\n",
       "      <td>2495.850231</td>\n",
       "      <td>2200.547318</td>\n",
       "      <td>1396.376627</td>\n",
       "      <td>4.197013</td>\n",
       "      <td>100.0</td>\n",
       "      <td>101.112908</td>\n",
       "      <td>0.121822</td>\n",
       "      <td>1.462862</td>\n",
       "      <td>-0.000841</td>\n",
       "      <td>...</td>\n",
       "      <td>97.934373</td>\n",
       "      <td>0.500096</td>\n",
       "      <td>0.015318</td>\n",
       "      <td>0.003847</td>\n",
       "      <td>3.067826</td>\n",
       "      <td>0.021458</td>\n",
       "      <td>0.016475</td>\n",
       "      <td>0.005283</td>\n",
       "      <td>99.670066</td>\n",
       "      <td>-0.867262</td>\n",
       "    </tr>\n",
       "    <tr>\n",
       "      <th>std</th>\n",
       "      <td>73.621787</td>\n",
       "      <td>80.407705</td>\n",
       "      <td>29.513152</td>\n",
       "      <td>441.691640</td>\n",
       "      <td>56.355540</td>\n",
       "      <td>0.0</td>\n",
       "      <td>6.237214</td>\n",
       "      <td>0.008961</td>\n",
       "      <td>0.073897</td>\n",
       "      <td>0.015116</td>\n",
       "      <td>...</td>\n",
       "      <td>87.520966</td>\n",
       "      <td>0.003404</td>\n",
       "      <td>0.017180</td>\n",
       "      <td>0.003720</td>\n",
       "      <td>3.578033</td>\n",
       "      <td>0.012358</td>\n",
       "      <td>0.008808</td>\n",
       "      <td>0.002867</td>\n",
       "      <td>93.891919</td>\n",
       "      <td>0.498010</td>\n",
       "    </tr>\n",
       "    <tr>\n",
       "      <th>min</th>\n",
       "      <td>2743.240000</td>\n",
       "      <td>2158.750000</td>\n",
       "      <td>2060.660000</td>\n",
       "      <td>0.000000</td>\n",
       "      <td>0.681500</td>\n",
       "      <td>100.0</td>\n",
       "      <td>82.131100</td>\n",
       "      <td>0.000000</td>\n",
       "      <td>1.191000</td>\n",
       "      <td>-0.053400</td>\n",
       "      <td>...</td>\n",
       "      <td>0.000000</td>\n",
       "      <td>0.477800</td>\n",
       "      <td>0.006000</td>\n",
       "      <td>0.001700</td>\n",
       "      <td>1.197500</td>\n",
       "      <td>-0.016900</td>\n",
       "      <td>0.003200</td>\n",
       "      <td>0.001000</td>\n",
       "      <td>0.000000</td>\n",
       "      <td>-1.000000</td>\n",
       "    </tr>\n",
       "    <tr>\n",
       "      <th>25%</th>\n",
       "      <td>2966.260000</td>\n",
       "      <td>2452.247500</td>\n",
       "      <td>2181.044400</td>\n",
       "      <td>1081.875800</td>\n",
       "      <td>1.017700</td>\n",
       "      <td>100.0</td>\n",
       "      <td>97.920000</td>\n",
       "      <td>0.121100</td>\n",
       "      <td>1.411200</td>\n",
       "      <td>-0.010800</td>\n",
       "      <td>...</td>\n",
       "      <td>46.184900</td>\n",
       "      <td>0.497900</td>\n",
       "      <td>0.011600</td>\n",
       "      <td>0.003100</td>\n",
       "      <td>2.306500</td>\n",
       "      <td>0.013425</td>\n",
       "      <td>0.010600</td>\n",
       "      <td>0.003300</td>\n",
       "      <td>44.368600</td>\n",
       "      <td>-1.000000</td>\n",
       "    </tr>\n",
       "    <tr>\n",
       "      <th>50%</th>\n",
       "      <td>3011.490000</td>\n",
       "      <td>2499.405000</td>\n",
       "      <td>2201.066700</td>\n",
       "      <td>1285.214400</td>\n",
       "      <td>1.316800</td>\n",
       "      <td>100.0</td>\n",
       "      <td>101.512200</td>\n",
       "      <td>0.122400</td>\n",
       "      <td>1.461600</td>\n",
       "      <td>-0.001300</td>\n",
       "      <td>...</td>\n",
       "      <td>72.288900</td>\n",
       "      <td>0.500200</td>\n",
       "      <td>0.013800</td>\n",
       "      <td>0.003600</td>\n",
       "      <td>2.757650</td>\n",
       "      <td>0.020500</td>\n",
       "      <td>0.014800</td>\n",
       "      <td>0.004600</td>\n",
       "      <td>71.900500</td>\n",
       "      <td>-1.000000</td>\n",
       "    </tr>\n",
       "    <tr>\n",
       "      <th>75%</th>\n",
       "      <td>3056.650000</td>\n",
       "      <td>2538.822500</td>\n",
       "      <td>2218.055500</td>\n",
       "      <td>1591.223500</td>\n",
       "      <td>1.525700</td>\n",
       "      <td>100.0</td>\n",
       "      <td>104.586700</td>\n",
       "      <td>0.123800</td>\n",
       "      <td>1.516900</td>\n",
       "      <td>0.008400</td>\n",
       "      <td>...</td>\n",
       "      <td>116.539150</td>\n",
       "      <td>0.502375</td>\n",
       "      <td>0.016500</td>\n",
       "      <td>0.004100</td>\n",
       "      <td>3.295175</td>\n",
       "      <td>0.027600</td>\n",
       "      <td>0.020300</td>\n",
       "      <td>0.006400</td>\n",
       "      <td>114.749700</td>\n",
       "      <td>-1.000000</td>\n",
       "    </tr>\n",
       "    <tr>\n",
       "      <th>max</th>\n",
       "      <td>3356.350000</td>\n",
       "      <td>2846.440000</td>\n",
       "      <td>2315.266700</td>\n",
       "      <td>3715.041700</td>\n",
       "      <td>1114.536600</td>\n",
       "      <td>100.0</td>\n",
       "      <td>129.252200</td>\n",
       "      <td>0.128600</td>\n",
       "      <td>1.656400</td>\n",
       "      <td>0.074900</td>\n",
       "      <td>...</td>\n",
       "      <td>737.304800</td>\n",
       "      <td>0.509800</td>\n",
       "      <td>0.476600</td>\n",
       "      <td>0.104500</td>\n",
       "      <td>99.303200</td>\n",
       "      <td>0.102800</td>\n",
       "      <td>0.079900</td>\n",
       "      <td>0.028600</td>\n",
       "      <td>737.304800</td>\n",
       "      <td>1.000000</td>\n",
       "    </tr>\n",
       "  </tbody>\n",
       "</table>\n",
       "<p>8 rows × 591 columns</p>\n",
       "</div>"
      ],
      "text/plain": [
       "                 0            1            2            3            4  \\\n",
       "count  1561.000000  1560.000000  1553.000000  1553.000000  1553.000000   \n",
       "mean   3014.452896  2495.850231  2200.547318  1396.376627     4.197013   \n",
       "std      73.621787    80.407705    29.513152   441.691640    56.355540   \n",
       "min    2743.240000  2158.750000  2060.660000     0.000000     0.681500   \n",
       "25%    2966.260000  2452.247500  2181.044400  1081.875800     1.017700   \n",
       "50%    3011.490000  2499.405000  2201.066700  1285.214400     1.316800   \n",
       "75%    3056.650000  2538.822500  2218.055500  1591.223500     1.525700   \n",
       "max    3356.350000  2846.440000  2315.266700  3715.041700  1114.536600   \n",
       "\n",
       "            5            6            7            8            9  ...  \\\n",
       "count  1553.0  1553.000000  1558.000000  1565.000000  1565.000000  ...   \n",
       "mean    100.0   101.112908     0.121822     1.462862    -0.000841  ...   \n",
       "std       0.0     6.237214     0.008961     0.073897     0.015116  ...   \n",
       "min     100.0    82.131100     0.000000     1.191000    -0.053400  ...   \n",
       "25%     100.0    97.920000     0.121100     1.411200    -0.010800  ...   \n",
       "50%     100.0   101.512200     0.122400     1.461600    -0.001300  ...   \n",
       "75%     100.0   104.586700     0.123800     1.516900     0.008400  ...   \n",
       "max     100.0   129.252200     0.128600     1.656400     0.074900  ...   \n",
       "\n",
       "              581          582          583          584          585  \\\n",
       "count  618.000000  1566.000000  1566.000000  1566.000000  1566.000000   \n",
       "mean    97.934373     0.500096     0.015318     0.003847     3.067826   \n",
       "std     87.520966     0.003404     0.017180     0.003720     3.578033   \n",
       "min      0.000000     0.477800     0.006000     0.001700     1.197500   \n",
       "25%     46.184900     0.497900     0.011600     0.003100     2.306500   \n",
       "50%     72.288900     0.500200     0.013800     0.003600     2.757650   \n",
       "75%    116.539150     0.502375     0.016500     0.004100     3.295175   \n",
       "max    737.304800     0.509800     0.476600     0.104500    99.303200   \n",
       "\n",
       "               586          587          588          589    Pass/Fail  \n",
       "count  1566.000000  1566.000000  1566.000000  1566.000000  1567.000000  \n",
       "mean      0.021458     0.016475     0.005283    99.670066    -0.867262  \n",
       "std       0.012358     0.008808     0.002867    93.891919     0.498010  \n",
       "min      -0.016900     0.003200     0.001000     0.000000    -1.000000  \n",
       "25%       0.013425     0.010600     0.003300    44.368600    -1.000000  \n",
       "50%       0.020500     0.014800     0.004600    71.900500    -1.000000  \n",
       "75%       0.027600     0.020300     0.006400   114.749700    -1.000000  \n",
       "max       0.102800     0.079900     0.028600   737.304800     1.000000  \n",
       "\n",
       "[8 rows x 591 columns]"
      ]
     },
     "execution_count": 26,
     "metadata": {},
     "output_type": "execute_result"
    }
   ],
   "source": [
    "df.describe()"
   ]
  },
  {
   "cell_type": "code",
   "execution_count": 30,
   "id": "7ec3ed80",
   "metadata": {
    "papermill": {
     "duration": 0.027453,
     "end_time": "2023-01-18T12:07:16.027441",
     "exception": false,
     "start_time": "2023-01-18T12:07:15.999988",
     "status": "completed"
    },
    "tags": []
   },
   "outputs": [],
   "source": [
    "def find_percent_null(data: pd.DataFrame):\n",
    "    '''\n",
    "    Find the percentage of null values in each column of a dataframe\n",
    "\n",
    "    Parameters\n",
    "    ----------\n",
    "    data: pd.DataFrame\n",
    "        The dataframe to be analyzed\n",
    "\n",
    "    Returns\n",
    "    -------\n",
    "    percent_null: pd.DataFrame\n",
    "        A dataframe containing the percentage of null values in each column\n",
    "\n",
    "    '''\n",
    "    result_dict = {'Column_Name':[],'Number_Null_Value':[],'Percent_Null (%)':[]}\n",
    "    for col in data.columns:\n",
    "        number_null_value = data[col].isnull().sum()\n",
    "        if  number_null_value> 0:\n",
    "            result_dict['Column_Name'].append(col)\n",
    "            result_dict['Number_Null_Value'].append(number_null_value)\n",
    "            result_dict['Percent_Null (%)'].append(number_null_value*100/data.shape[0])\n",
    "    result_table = pd.DataFrame(result_dict)\n",
    "    return result_table"
   ]
  },
  {
   "cell_type": "code",
   "execution_count": 31,
   "id": "c4529c61",
   "metadata": {
    "papermill": {
     "duration": 0.148353,
     "end_time": "2023-01-18T12:07:16.190337",
     "exception": false,
     "start_time": "2023-01-18T12:07:16.041984",
     "status": "completed"
    },
    "tags": []
   },
   "outputs": [
    {
     "data": {
      "text/html": [
       "<div>\n",
       "<style scoped>\n",
       "    .dataframe tbody tr th:only-of-type {\n",
       "        vertical-align: middle;\n",
       "    }\n",
       "\n",
       "    .dataframe tbody tr th {\n",
       "        vertical-align: top;\n",
       "    }\n",
       "\n",
       "    .dataframe thead th {\n",
       "        text-align: right;\n",
       "    }\n",
       "</style>\n",
       "<table border=\"1\" class=\"dataframe\">\n",
       "  <thead>\n",
       "    <tr style=\"text-align: right;\">\n",
       "      <th></th>\n",
       "      <th>Column_Name</th>\n",
       "      <th>Number_Null_Value</th>\n",
       "      <th>Percent_Null (%)</th>\n",
       "    </tr>\n",
       "  </thead>\n",
       "  <tbody>\n",
       "    <tr>\n",
       "      <th>269</th>\n",
       "      <td>292</td>\n",
       "      <td>1429</td>\n",
       "      <td>91.193363</td>\n",
       "    </tr>\n",
       "    <tr>\n",
       "      <th>270</th>\n",
       "      <td>293</td>\n",
       "      <td>1429</td>\n",
       "      <td>91.193363</td>\n",
       "    </tr>\n",
       "    <tr>\n",
       "      <th>145</th>\n",
       "      <td>157</td>\n",
       "      <td>1429</td>\n",
       "      <td>91.193363</td>\n",
       "    </tr>\n",
       "    <tr>\n",
       "      <th>146</th>\n",
       "      <td>158</td>\n",
       "      <td>1429</td>\n",
       "      <td>91.193363</td>\n",
       "    </tr>\n",
       "    <tr>\n",
       "      <th>335</th>\n",
       "      <td>358</td>\n",
       "      <td>1341</td>\n",
       "      <td>85.577537</td>\n",
       "    </tr>\n",
       "    <tr>\n",
       "      <th>84</th>\n",
       "      <td>85</td>\n",
       "      <td>1341</td>\n",
       "      <td>85.577537</td>\n",
       "    </tr>\n",
       "    <tr>\n",
       "      <th>458</th>\n",
       "      <td>492</td>\n",
       "      <td>1341</td>\n",
       "      <td>85.577537</td>\n",
       "    </tr>\n",
       "    <tr>\n",
       "      <th>208</th>\n",
       "      <td>220</td>\n",
       "      <td>1341</td>\n",
       "      <td>85.577537</td>\n",
       "    </tr>\n",
       "    <tr>\n",
       "      <th>481</th>\n",
       "      <td>518</td>\n",
       "      <td>1018</td>\n",
       "      <td>64.964901</td>\n",
       "    </tr>\n",
       "    <tr>\n",
       "      <th>231</th>\n",
       "      <td>246</td>\n",
       "      <td>1018</td>\n",
       "      <td>64.964901</td>\n",
       "    </tr>\n",
       "    <tr>\n",
       "      <th>230</th>\n",
       "      <td>245</td>\n",
       "      <td>1018</td>\n",
       "      <td>64.964901</td>\n",
       "    </tr>\n",
       "    <tr>\n",
       "      <th>479</th>\n",
       "      <td>516</td>\n",
       "      <td>1018</td>\n",
       "      <td>64.964901</td>\n",
       "    </tr>\n",
       "    <tr>\n",
       "      <th>480</th>\n",
       "      <td>517</td>\n",
       "      <td>1018</td>\n",
       "      <td>64.964901</td>\n",
       "    </tr>\n",
       "    <tr>\n",
       "      <th>106</th>\n",
       "      <td>110</td>\n",
       "      <td>1018</td>\n",
       "      <td>64.964901</td>\n",
       "    </tr>\n",
       "    <tr>\n",
       "      <th>358</th>\n",
       "      <td>384</td>\n",
       "      <td>1018</td>\n",
       "      <td>64.964901</td>\n",
       "    </tr>\n",
       "    <tr>\n",
       "      <th>356</th>\n",
       "      <td>382</td>\n",
       "      <td>1018</td>\n",
       "      <td>64.964901</td>\n",
       "    </tr>\n",
       "    <tr>\n",
       "      <th>357</th>\n",
       "      <td>383</td>\n",
       "      <td>1018</td>\n",
       "      <td>64.964901</td>\n",
       "    </tr>\n",
       "    <tr>\n",
       "      <th>105</th>\n",
       "      <td>109</td>\n",
       "      <td>1018</td>\n",
       "      <td>64.964901</td>\n",
       "    </tr>\n",
       "    <tr>\n",
       "      <th>229</th>\n",
       "      <td>244</td>\n",
       "      <td>1018</td>\n",
       "      <td>64.964901</td>\n",
       "    </tr>\n",
       "    <tr>\n",
       "      <th>107</th>\n",
       "      <td>111</td>\n",
       "      <td>1018</td>\n",
       "      <td>64.964901</td>\n",
       "    </tr>\n",
       "    <tr>\n",
       "      <th>528</th>\n",
       "      <td>580</td>\n",
       "      <td>949</td>\n",
       "      <td>60.561583</td>\n",
       "    </tr>\n",
       "    <tr>\n",
       "      <th>526</th>\n",
       "      <td>578</td>\n",
       "      <td>949</td>\n",
       "      <td>60.561583</td>\n",
       "    </tr>\n",
       "    <tr>\n",
       "      <th>529</th>\n",
       "      <td>581</td>\n",
       "      <td>949</td>\n",
       "      <td>60.561583</td>\n",
       "    </tr>\n",
       "    <tr>\n",
       "      <th>527</th>\n",
       "      <td>579</td>\n",
       "      <td>949</td>\n",
       "      <td>60.561583</td>\n",
       "    </tr>\n",
       "    <tr>\n",
       "      <th>72</th>\n",
       "      <td>73</td>\n",
       "      <td>794</td>\n",
       "      <td>50.670070</td>\n",
       "    </tr>\n",
       "    <tr>\n",
       "      <th>71</th>\n",
       "      <td>72</td>\n",
       "      <td>794</td>\n",
       "      <td>50.670070</td>\n",
       "    </tr>\n",
       "    <tr>\n",
       "      <th>322</th>\n",
       "      <td>345</td>\n",
       "      <td>794</td>\n",
       "      <td>50.670070</td>\n",
       "    </tr>\n",
       "    <tr>\n",
       "      <th>323</th>\n",
       "      <td>346</td>\n",
       "      <td>794</td>\n",
       "      <td>50.670070</td>\n",
       "    </tr>\n",
       "  </tbody>\n",
       "</table>\n",
       "</div>"
      ],
      "text/plain": [
       "    Column_Name  Number_Null_Value  Percent_Null (%)\n",
       "269         292               1429         91.193363\n",
       "270         293               1429         91.193363\n",
       "145         157               1429         91.193363\n",
       "146         158               1429         91.193363\n",
       "335         358               1341         85.577537\n",
       "84           85               1341         85.577537\n",
       "458         492               1341         85.577537\n",
       "208         220               1341         85.577537\n",
       "481         518               1018         64.964901\n",
       "231         246               1018         64.964901\n",
       "230         245               1018         64.964901\n",
       "479         516               1018         64.964901\n",
       "480         517               1018         64.964901\n",
       "106         110               1018         64.964901\n",
       "358         384               1018         64.964901\n",
       "356         382               1018         64.964901\n",
       "357         383               1018         64.964901\n",
       "105         109               1018         64.964901\n",
       "229         244               1018         64.964901\n",
       "107         111               1018         64.964901\n",
       "528         580                949         60.561583\n",
       "526         578                949         60.561583\n",
       "529         581                949         60.561583\n",
       "527         579                949         60.561583\n",
       "72           73                794         50.670070\n",
       "71           72                794         50.670070\n",
       "322         345                794         50.670070\n",
       "323         346                794         50.670070"
      ]
     },
     "execution_count": 31,
     "metadata": {},
     "output_type": "execute_result"
    }
   ],
   "source": [
    "null_table = find_percent_null(df).sort_values(by = 'Percent_Null (%)',ascending=False)\n",
    "null_table[null_table['Percent_Null (%)'] > 50]"
   ]
  },
  {
   "cell_type": "code",
   "execution_count": 32,
   "id": "690c66f8",
   "metadata": {
    "papermill": {
     "duration": 0.059493,
     "end_time": "2023-01-18T12:07:16.264684",
     "exception": false,
     "start_time": "2023-01-18T12:07:16.205191",
     "status": "completed"
    },
    "tags": []
   },
   "outputs": [
    {
     "data": {
      "text/plain": [
       "0             0.513657\n",
       "1            -0.043066\n",
       "2            -0.305764\n",
       "3             1.711627\n",
       "4            19.645262\n",
       "               ...    \n",
       "586           1.438025\n",
       "587           1.947408\n",
       "588           2.029372\n",
       "589           2.714475\n",
       "Pass/Fail     3.487359\n",
       "Length: 591, dtype: float64"
      ]
     },
     "execution_count": 32,
     "metadata": {},
     "output_type": "execute_result"
    }
   ],
   "source": [
    "df.skew()"
   ]
  },
  {
   "cell_type": "code",
   "execution_count": 33,
   "id": "3fed49b1",
   "metadata": {
    "papermill": {
     "duration": 0.025971,
     "end_time": "2023-01-18T12:07:16.307030",
     "exception": false,
     "start_time": "2023-01-18T12:07:16.281059",
     "status": "completed"
    },
    "tags": []
   },
   "outputs": [],
   "source": [
    "# Draw distribution of chossen column\n",
    "def draw_distribution(data : pd.DataFrame,columns : list,bins = 40,figsize = (10,12),subplotsize = (1,1)):\n",
    "    '''\n",
    "    Draw distribution of data in list columns input\n",
    "\n",
    "    Parameters:\n",
    "    ----------\n",
    "    data : pd.DataFrame\n",
    "        The data for drawing \n",
    "    column: str\n",
    "        Column was be choosed for drawing data\n",
    "    '''\n",
    "    fig = plt.figure(figsize=figsize)\n",
    "    rows = subplotsize[0]\n",
    "    cols = subplotsize[1]\n",
    "    for i,col in enumerate(columns):\n",
    "        fig.add_subplot(rows,cols,i+1)\n",
    "        plt.hist(data[col])\n",
    "        plt.title(col)\n",
    "    plt.show()"
   ]
  },
  {
   "cell_type": "code",
   "execution_count": 36,
   "id": "c02cf4dd",
   "metadata": {
    "papermill": {
     "duration": 0.646294,
     "end_time": "2023-01-18T12:07:16.969167",
     "exception": false,
     "start_time": "2023-01-18T12:07:16.322873",
     "status": "completed"
    },
    "tags": []
   },
   "outputs": [
    {
     "data": {
      "image/png": "[encoded data removed]",
      "text/plain": [
       "<Figure size 720x864 with 4 Axes>"
      ]
     },
     "metadata": {
      "needs_background": "light"
     },
     "output_type": "display_data"
    }
   ],
   "source": [
    "draw_distribution(df,['1','2','3','4'],subplotsize=(2,2))"
   ]
  },
  {
   "cell_type": "code",
   "execution_count": 37,
   "id": "705f86c0",
   "metadata": {
    "papermill": {
     "duration": 0.101944,
     "end_time": "2023-01-18T12:07:17.086708",
     "exception": false,
     "start_time": "2023-01-18T12:07:16.984764",
     "status": "completed"
    },
    "tags": []
   },
   "outputs": [
    {
     "data": {
      "text/html": [
       "<style type=\"text/css\">\n",
       "#T_f6b54_row0_col0, #T_f6b54_row1_col1, #T_f6b54_row2_col2, #T_f6b54_row3_col3, #T_f6b54_row4_col4 {\n",
       "  background-color: #b40426;\n",
       "  color: #f1f1f1;\n",
       "}\n",
       "#T_f6b54_row0_col1, #T_f6b54_row3_col0, #T_f6b54_row4_col0 {\n",
       "  background-color: #3c4ec2;\n",
       "  color: #f1f1f1;\n",
       "}\n",
       "#T_f6b54_row0_col2 {\n",
       "  background-color: #4961d2;\n",
       "  color: #f1f1f1;\n",
       "}\n",
       "#T_f6b54_row0_col3 {\n",
       "  background-color: #4a63d3;\n",
       "  color: #f1f1f1;\n",
       "}\n",
       "#T_f6b54_row0_col4, #T_f6b54_row1_col4 {\n",
       "  background-color: #4055c8;\n",
       "  color: #f1f1f1;\n",
       "}\n",
       "#T_f6b54_row1_col0 {\n",
       "  background-color: #3e51c5;\n",
       "  color: #f1f1f1;\n",
       "}\n",
       "#T_f6b54_row1_col2 {\n",
       "  background-color: #abc8fd;\n",
       "  color: #000000;\n",
       "}\n",
       "#T_f6b54_row1_col3 {\n",
       "  background-color: #688aef;\n",
       "  color: #f1f1f1;\n",
       "}\n",
       "#T_f6b54_row2_col0, #T_f6b54_row2_col3, #T_f6b54_row2_col4, #T_f6b54_row3_col2, #T_f6b54_row4_col1 {\n",
       "  background-color: #3b4cc0;\n",
       "  color: #f1f1f1;\n",
       "}\n",
       "#T_f6b54_row2_col1 {\n",
       "  background-color: #9ebeff;\n",
       "  color: #000000;\n",
       "}\n",
       "#T_f6b54_row3_col1 {\n",
       "  background-color: #5875e1;\n",
       "  color: #f1f1f1;\n",
       "}\n",
       "#T_f6b54_row3_col4 {\n",
       "  background-color: #3d50c3;\n",
       "  color: #f1f1f1;\n",
       "}\n",
       "#T_f6b54_row4_col2 {\n",
       "  background-color: #445acc;\n",
       "  color: #f1f1f1;\n",
       "}\n",
       "#T_f6b54_row4_col3 {\n",
       "  background-color: #465ecf;\n",
       "  color: #f1f1f1;\n",
       "}\n",
       "</style>\n",
       "<table id=\"T_f6b54\">\n",
       "  <thead>\n",
       "    <tr>\n",
       "      <th class=\"blank level0\" >&nbsp;</th>\n",
       "      <th id=\"T_f6b54_level0_col0\" class=\"col_heading level0 col0\" >1</th>\n",
       "      <th id=\"T_f6b54_level0_col1\" class=\"col_heading level0 col1\" >2</th>\n",
       "      <th id=\"T_f6b54_level0_col2\" class=\"col_heading level0 col2\" >3</th>\n",
       "      <th id=\"T_f6b54_level0_col3\" class=\"col_heading level0 col3\" >4</th>\n",
       "      <th id=\"T_f6b54_level0_col4\" class=\"col_heading level0 col4\" >Pass/Fail</th>\n",
       "    </tr>\n",
       "  </thead>\n",
       "  <tbody>\n",
       "    <tr>\n",
       "      <th id=\"T_f6b54_level0_row0\" class=\"row_heading level0 row0\" >1</th>\n",
       "      <td id=\"T_f6b54_row0_col0\" class=\"data row0 col0\" >1.000000</td>\n",
       "      <td id=\"T_f6b54_row0_col1\" class=\"data row0 col1\" >0.005802</td>\n",
       "      <td id=\"T_f6b54_row0_col2\" class=\"data row0 col2\" >-0.007603</td>\n",
       "      <td id=\"T_f6b54_row0_col3\" class=\"data row0 col3\" >-0.001641</td>\n",
       "      <td id=\"T_f6b54_row0_col4\" class=\"data row0 col4\" >-0.002615</td>\n",
       "    </tr>\n",
       "    <tr>\n",
       "      <th id=\"T_f6b54_level0_row1\" class=\"row_heading level0 row1\" >2</th>\n",
       "      <td id=\"T_f6b54_row1_col0\" class=\"data row1 col0\" >0.005802</td>\n",
       "      <td id=\"T_f6b54_row1_col1\" class=\"data row1 col1\" >1.000000</td>\n",
       "      <td id=\"T_f6b54_row1_col2\" class=\"data row1 col2\" >0.298935</td>\n",
       "      <td id=\"T_f6b54_row1_col3\" class=\"data row1 col3\" >0.095891</td>\n",
       "      <td id=\"T_f6b54_row1_col4\" class=\"data row1 col4\" >-0.000957</td>\n",
       "    </tr>\n",
       "    <tr>\n",
       "      <th id=\"T_f6b54_level0_row2\" class=\"row_heading level0 row2\" >3</th>\n",
       "      <td id=\"T_f6b54_row2_col0\" class=\"data row2 col0\" >-0.007603</td>\n",
       "      <td id=\"T_f6b54_row2_col1\" class=\"data row2 col1\" >0.298935</td>\n",
       "      <td id=\"T_f6b54_row2_col2\" class=\"data row2 col2\" >1.000000</td>\n",
       "      <td id=\"T_f6b54_row2_col3\" class=\"data row2 col3\" >-0.058483</td>\n",
       "      <td id=\"T_f6b54_row2_col4\" class=\"data row2 col4\" >-0.024631</td>\n",
       "    </tr>\n",
       "    <tr>\n",
       "      <th id=\"T_f6b54_level0_row3\" class=\"row_heading level0 row3\" >4</th>\n",
       "      <td id=\"T_f6b54_row3_col0\" class=\"data row3 col0\" >-0.001641</td>\n",
       "      <td id=\"T_f6b54_row3_col1\" class=\"data row3 col1\" >0.095891</td>\n",
       "      <td id=\"T_f6b54_row3_col2\" class=\"data row3 col2\" >-0.058483</td>\n",
       "      <td id=\"T_f6b54_row3_col3\" class=\"data row3 col3\" >1.000000</td>\n",
       "      <td id=\"T_f6b54_row3_col4\" class=\"data row3 col4\" >-0.013760</td>\n",
       "    </tr>\n",
       "    <tr>\n",
       "      <th id=\"T_f6b54_level0_row4\" class=\"row_heading level0 row4\" >Pass/Fail</th>\n",
       "      <td id=\"T_f6b54_row4_col0\" class=\"data row4 col0\" >-0.002615</td>\n",
       "      <td id=\"T_f6b54_row4_col1\" class=\"data row4 col1\" >-0.000957</td>\n",
       "      <td id=\"T_f6b54_row4_col2\" class=\"data row4 col2\" >-0.024631</td>\n",
       "      <td id=\"T_f6b54_row4_col3\" class=\"data row4 col3\" >-0.013760</td>\n",
       "      <td id=\"T_f6b54_row4_col4\" class=\"data row4 col4\" >1.000000</td>\n",
       "    </tr>\n",
       "  </tbody>\n",
       "</table>\n"
      ],
      "text/plain": [
       "<pandas.io.formats.style.Styler at 0x1f081bcda00>"
      ]
     },
     "execution_count": 37,
     "metadata": {},
     "output_type": "execute_result"
    }
   ],
   "source": [
    "corr_matrix = df[['1','2','3','4',target]].corr()\n",
    "corr_matrix.style.background_gradient(cmap='coolwarm')"
   ]
  },
  {
   "cell_type": "code",
   "execution_count": 38,
   "id": "0300f7de",
   "metadata": {
    "papermill": {
     "duration": 0.02925,
     "end_time": "2023-01-18T12:07:17.133026",
     "exception": false,
     "start_time": "2023-01-18T12:07:17.103776",
     "status": "completed"
    },
    "tags": []
   },
   "outputs": [
    {
     "data": {
      "text/plain": [
       "-1    1463\n",
       " 1     104\n",
       "Name: Pass/Fail, dtype: int64"
      ]
     },
     "execution_count": 38,
     "metadata": {},
     "output_type": "execute_result"
    }
   ],
   "source": [
    "df[target].value_counts()"
   ]
  },
  {
   "cell_type": "code",
   "execution_count": 39,
   "id": "348f4d27",
   "metadata": {
    "papermill": {
     "duration": 0.21767,
     "end_time": "2023-01-18T12:07:17.366605",
     "exception": false,
     "start_time": "2023-01-18T12:07:17.148935",
     "status": "completed"
    },
    "tags": []
   },
   "outputs": [
    {
     "data": {
      "text/plain": [
       "<function matplotlib.pyplot.xlabel(xlabel, fontdict=None, labelpad=None, *, loc=None, **kwargs)>"
      ]
     },
     "execution_count": 39,
     "metadata": {},
     "output_type": "execute_result"
    },
    {
     "data": {
      "image/png": "[encoded data removed]",
      "text/plain": [
       "<Figure size 432x288 with 1 Axes>"
      ]
     },
     "metadata": {
      "needs_background": "light"
     },
     "output_type": "display_data"
    }
   ],
   "source": [
    "sns.countplot(df[target])\n",
    "plt.xlabel"
   ]
  },
  {
   "cell_type": "markdown",
   "id": "d70de597",
   "metadata": {
    "papermill": {
     "duration": 0.016281,
     "end_time": "2023-01-18T12:07:17.399318",
     "exception": false,
     "start_time": "2023-01-18T12:07:17.383037",
     "status": "completed"
    },
    "tags": []
   },
   "source": [
    "**We can see imbalance data**"
   ]
  },
  {
   "cell_type": "markdown",
   "id": "ab177fbe",
   "metadata": {
    "papermill": {
     "duration": 0.016125,
     "end_time": "2023-01-18T12:07:17.432114",
     "exception": false,
     "start_time": "2023-01-18T12:07:17.415989",
     "status": "completed"
    },
    "tags": []
   },
   "source": [
    "## 2.Processing data"
   ]
  },
  {
   "cell_type": "code",
   "execution_count": 40,
   "id": "68e23158",
   "metadata": {
    "papermill": {
     "duration": 0.118016,
     "end_time": "2023-01-18T12:07:17.566577",
     "exception": false,
     "start_time": "2023-01-18T12:07:17.448561",
     "status": "completed"
    },
    "tags": []
   },
   "outputs": [
    {
     "data": {
      "text/html": [
       "<div>\n",
       "<style scoped>\n",
       "    .dataframe tbody tr th:only-of-type {\n",
       "        vertical-align: middle;\n",
       "    }\n",
       "\n",
       "    .dataframe tbody tr th {\n",
       "        vertical-align: top;\n",
       "    }\n",
       "\n",
       "    .dataframe thead th {\n",
       "        text-align: right;\n",
       "    }\n",
       "</style>\n",
       "<table border=\"1\" class=\"dataframe\">\n",
       "  <thead>\n",
       "    <tr style=\"text-align: right;\">\n",
       "      <th></th>\n",
       "      <th>Column_Name</th>\n",
       "      <th>Number_Null_Value</th>\n",
       "      <th>Percent_Null (%)</th>\n",
       "    </tr>\n",
       "  </thead>\n",
       "  <tbody>\n",
       "    <tr>\n",
       "      <th>269</th>\n",
       "      <td>292</td>\n",
       "      <td>1429</td>\n",
       "      <td>91.193363</td>\n",
       "    </tr>\n",
       "    <tr>\n",
       "      <th>270</th>\n",
       "      <td>293</td>\n",
       "      <td>1429</td>\n",
       "      <td>91.193363</td>\n",
       "    </tr>\n",
       "    <tr>\n",
       "      <th>145</th>\n",
       "      <td>157</td>\n",
       "      <td>1429</td>\n",
       "      <td>91.193363</td>\n",
       "    </tr>\n",
       "    <tr>\n",
       "      <th>146</th>\n",
       "      <td>158</td>\n",
       "      <td>1429</td>\n",
       "      <td>91.193363</td>\n",
       "    </tr>\n",
       "    <tr>\n",
       "      <th>335</th>\n",
       "      <td>358</td>\n",
       "      <td>1341</td>\n",
       "      <td>85.577537</td>\n",
       "    </tr>\n",
       "    <tr>\n",
       "      <th>84</th>\n",
       "      <td>85</td>\n",
       "      <td>1341</td>\n",
       "      <td>85.577537</td>\n",
       "    </tr>\n",
       "    <tr>\n",
       "      <th>458</th>\n",
       "      <td>492</td>\n",
       "      <td>1341</td>\n",
       "      <td>85.577537</td>\n",
       "    </tr>\n",
       "    <tr>\n",
       "      <th>208</th>\n",
       "      <td>220</td>\n",
       "      <td>1341</td>\n",
       "      <td>85.577537</td>\n",
       "    </tr>\n",
       "    <tr>\n",
       "      <th>481</th>\n",
       "      <td>518</td>\n",
       "      <td>1018</td>\n",
       "      <td>64.964901</td>\n",
       "    </tr>\n",
       "    <tr>\n",
       "      <th>231</th>\n",
       "      <td>246</td>\n",
       "      <td>1018</td>\n",
       "      <td>64.964901</td>\n",
       "    </tr>\n",
       "  </tbody>\n",
       "</table>\n",
       "</div>"
      ],
      "text/plain": [
       "    Column_Name  Number_Null_Value  Percent_Null (%)\n",
       "269         292               1429         91.193363\n",
       "270         293               1429         91.193363\n",
       "145         157               1429         91.193363\n",
       "146         158               1429         91.193363\n",
       "335         358               1341         85.577537\n",
       "84           85               1341         85.577537\n",
       "458         492               1341         85.577537\n",
       "208         220               1341         85.577537\n",
       "481         518               1018         64.964901\n",
       "231         246               1018         64.964901"
      ]
     },
     "execution_count": 40,
     "metadata": {},
     "output_type": "execute_result"
    }
   ],
   "source": [
    "null_percent_table = find_percent_null(df)\n",
    "null_percent_table = null_percent_table.sort_values(by = 'Percent_Null (%)',ascending= False)\n",
    "null_percent_table.head(10)"
   ]
  },
  {
   "cell_type": "code",
   "execution_count": 41,
   "id": "0f521d58",
   "metadata": {
    "papermill": {
     "duration": 0.028999,
     "end_time": "2023-01-18T12:07:17.612258",
     "exception": false,
     "start_time": "2023-01-18T12:07:17.583259",
     "status": "completed"
    },
    "tags": []
   },
   "outputs": [
    {
     "data": {
      "text/plain": [
       "array(['292', '293', '157', '158', '358', '85', '492', '220', '518',\n",
       "       '246', '245', '516', '517', '110', '384', '382', '383', '109',\n",
       "       '244', '111', '580', '578', '581', '579', '73', '72', '345', '346'],\n",
       "      dtype=object)"
      ]
     },
     "execution_count": 41,
     "metadata": {},
     "output_type": "execute_result"
    }
   ],
   "source": [
    "high_percent_null_column = null_percent_table[null_percent_table['Percent_Null (%)'] > 50]['Column_Name'].values\n",
    "high_percent_null_column"
   ]
  },
  {
   "cell_type": "code",
   "execution_count": 42,
   "id": "13125d34",
   "metadata": {
    "papermill": {
     "duration": 0.030724,
     "end_time": "2023-01-18T12:07:17.659766",
     "exception": false,
     "start_time": "2023-01-18T12:07:17.629042",
     "status": "completed"
    },
    "tags": []
   },
   "outputs": [],
   "source": [
    "# Drop cloumn that have high null value\n",
    "df = df.drop(labels=high_percent_null_column,axis=1)"
   ]
  },
  {
   "cell_type": "code",
   "execution_count": 43,
   "id": "49066855",
   "metadata": {
    "papermill": {
     "duration": 0.266622,
     "end_time": "2023-01-18T12:07:17.943722",
     "exception": false,
     "start_time": "2023-01-18T12:07:17.677100",
     "status": "completed"
    },
    "tags": []
   },
   "outputs": [
    {
     "data": {
      "text/plain": [
       "0"
      ]
     },
     "execution_count": 43,
     "metadata": {},
     "output_type": "execute_result"
    }
   ],
   "source": [
    "# Check data frame after drop\n",
    "null_value = find_percent_null(df)\n",
    "len(null_value[null_value['Percent_Null (%)']>50])"
   ]
  },
  {
   "cell_type": "code",
   "execution_count": 44,
   "id": "16a47f6e",
   "metadata": {
    "papermill": {
     "duration": 0.031453,
     "end_time": "2023-01-18T12:07:17.992198",
     "exception": false,
     "start_time": "2023-01-18T12:07:17.960745",
     "status": "completed"
    },
    "tags": []
   },
   "outputs": [],
   "source": [
    "# Drop cloumn 'Time'\n",
    "df = df.drop(labels='Time',axis = 1)"
   ]
  },
  {
   "cell_type": "markdown",
   "id": "b3e9a295",
   "metadata": {
    "papermill": {
     "duration": 0.016735,
     "end_time": "2023-01-18T12:07:18.026990",
     "exception": false,
     "start_time": "2023-01-18T12:07:18.010255",
     "status": "completed"
    },
    "tags": []
   },
   "source": [
    "### 2.1 Processing null value"
   ]
  },
  {
   "cell_type": "markdown",
   "id": "3ab0f61f",
   "metadata": {
    "papermill": {
     "duration": 0.016912,
     "end_time": "2023-01-18T12:07:18.061818",
     "exception": false,
     "start_time": "2023-01-18T12:07:18.044906",
     "status": "completed"
    },
    "tags": []
   },
   "source": [
    "We fill 0 instead of mean because we want to detect all failed product. If we use mean to replace null, we have high probability machine will detect failed product to passed prodcut and it really dangerous so we imput 0 although passed product can be deteted failed product but we can find all failed prodcut"
   ]
  },
  {
   "cell_type": "code",
   "execution_count": 45,
   "id": "7bd05269",
   "metadata": {
    "papermill": {
     "duration": 0.027437,
     "end_time": "2023-01-18T12:07:18.106263",
     "exception": false,
     "start_time": "2023-01-18T12:07:18.078826",
     "status": "completed"
    },
    "tags": []
   },
   "outputs": [],
   "source": [
    "df.fillna(0,inplace=True)"
   ]
  },
  {
   "cell_type": "code",
   "execution_count": 46,
   "id": "f03a50c7",
   "metadata": {
    "papermill": {
     "duration": 0.032361,
     "end_time": "2023-01-18T12:07:18.156091",
     "exception": false,
     "start_time": "2023-01-18T12:07:18.123730",
     "status": "completed"
    },
    "tags": []
   },
   "outputs": [
    {
     "data": {
      "text/plain": [
       "0"
      ]
     },
     "execution_count": 46,
     "metadata": {},
     "output_type": "execute_result"
    }
   ],
   "source": [
    "sum(df.isnull().sum())"
   ]
  },
  {
   "cell_type": "markdown",
   "id": "250d4338",
   "metadata": {
    "papermill": {
     "duration": 0.016761,
     "end_time": "2023-01-18T12:07:18.190200",
     "exception": false,
     "start_time": "2023-01-18T12:07:18.173439",
     "status": "completed"
    },
    "tags": []
   },
   "source": [
    "### 2.2 Normalize data"
   ]
  },
  {
   "cell_type": "code",
   "execution_count": 47,
   "id": "24a30a1e",
   "metadata": {
    "papermill": {
     "duration": 0.030152,
     "end_time": "2023-01-18T12:07:18.238440",
     "exception": false,
     "start_time": "2023-01-18T12:07:18.208288",
     "status": "completed"
    },
    "tags": []
   },
   "outputs": [],
   "source": [
    "X = df.drop(target,axis = 1)\n",
    "y = df[[target]]"
   ]
  },
  {
   "cell_type": "code",
   "execution_count": 48,
   "id": "2054f865",
   "metadata": {
    "papermill": {
     "duration": 0.052757,
     "end_time": "2023-01-18T12:07:18.308727",
     "exception": false,
     "start_time": "2023-01-18T12:07:18.255970",
     "status": "completed"
    },
    "tags": []
   },
   "outputs": [],
   "source": [
    "sc = StandardScaler()\n",
    "X = sc.fit_transform(X)"
   ]
  },
  {
   "cell_type": "code",
   "execution_count": 49,
   "id": "30cf04d5",
   "metadata": {
    "papermill": {
     "duration": 0.02868,
     "end_time": "2023-01-18T12:07:18.355225",
     "exception": false,
     "start_time": "2023-01-18T12:07:18.326545",
     "status": "completed"
    },
    "tags": []
   },
   "outputs": [
    {
     "data": {
      "text/plain": [
       "array([[ 0.13999828,  0.42920791,  0.03273532, ..., -1.86846064,\n",
       "        -1.84076867, -1.0611589 ],\n",
       "       [ 0.46402024, -0.10587396,  0.23685169, ...,  0.41258698,\n",
       "         0.25102908,  1.15695081],\n",
       "       [-0.35125598,  0.40723307,  0.02641324, ...,  3.62421124,\n",
       "         3.31899911, -0.17840653],\n",
       "       [-0.07090329, -0.02598515,  0.08676611, ..., -0.17753479,\n",
       "        -0.30678365, -0.27446928],\n",
       "       [ 0.14654367,  0.09834047,  0.25093078, ..., -0.17753479,\n",
       "        -0.30678365, -0.27446928]])"
      ]
     },
     "execution_count": 49,
     "metadata": {},
     "output_type": "execute_result"
    }
   ],
   "source": [
    "X[:5]"
   ]
  },
  {
   "cell_type": "markdown",
   "id": "725c14a6",
   "metadata": {
    "papermill": {
     "duration": 0.017073,
     "end_time": "2023-01-18T12:07:18.389877",
     "exception": false,
     "start_time": "2023-01-18T12:07:18.372804",
     "status": "completed"
    },
    "tags": []
   },
   "source": [
    "### 2.4 Processing imbalance data"
   ]
  },
  {
   "cell_type": "code",
   "execution_count": 50,
   "id": "85a74dd5",
   "metadata": {
    "papermill": {
     "duration": 0.216576,
     "end_time": "2023-01-18T12:07:18.623828",
     "exception": false,
     "start_time": "2023-01-18T12:07:18.407252",
     "status": "completed"
    },
    "tags": []
   },
   "outputs": [
    {
     "data": {
      "text/plain": [
       "<AxesSubplot:xlabel='Pass/Fail', ylabel='count'>"
      ]
     },
     "execution_count": 50,
     "metadata": {},
     "output_type": "execute_result"
    },
    {
     "data": {
      "image/png": "[encoded data removed]",
      "text/plain": [
       "<Figure size 432x288 with 1 Axes>"
      ]
     },
     "metadata": {
      "needs_background": "light"
     },
     "output_type": "display_data"
    }
   ],
   "source": [
    "sns.countplot(df[target])"
   ]
  },
  {
   "cell_type": "code",
   "execution_count": 51,
   "id": "66d059fe",
   "metadata": {
    "papermill": {
     "duration": 0.029291,
     "end_time": "2023-01-18T12:07:18.671627",
     "exception": false,
     "start_time": "2023-01-18T12:07:18.642336",
     "status": "completed"
    },
    "tags": []
   },
   "outputs": [],
   "source": [
    "passed_indices = y[y[target] == -1].index\n",
    "failed_indices = y[y[target] == 1].index"
   ]
  },
  {
   "cell_type": "code",
   "execution_count": 52,
   "id": "b7dc97c0",
   "metadata": {
    "papermill": {
     "duration": 0.029963,
     "end_time": "2023-01-18T12:07:18.719734",
     "exception": false,
     "start_time": "2023-01-18T12:07:18.689771",
     "status": "completed"
    },
    "tags": []
   },
   "outputs": [
    {
     "data": {
      "text/plain": [
       "(Int64Index([0, 1, 3, 4, 5], dtype='int64'),\n",
       " Int64Index([2, 10, 11, 14, 23], dtype='int64'))"
      ]
     },
     "execution_count": 52,
     "metadata": {},
     "output_type": "execute_result"
    }
   ],
   "source": [
    "passed_indices[:5],failed_indices[:5]"
   ]
  },
  {
   "cell_type": "markdown",
   "id": "861b36cd",
   "metadata": {
    "papermill": {
     "duration": 0.017924,
     "end_time": "2023-01-18T12:07:18.756054",
     "exception": false,
     "start_time": "2023-01-18T12:07:18.738130",
     "status": "completed"
    },
    "tags": []
   },
   "source": [
    "#### 2.4a Processing data by under sampling"
   ]
  },
  {
   "cell_type": "code",
   "execution_count": 53,
   "id": "cb989a12",
   "metadata": {
    "papermill": {
     "duration": 0.026236,
     "end_time": "2023-01-18T12:07:18.800704",
     "exception": false,
     "start_time": "2023-01-18T12:07:18.774468",
     "status": "completed"
    },
    "tags": []
   },
   "outputs": [],
   "source": [
    "# us : under sampling\n",
    "X_us = X"
   ]
  },
  {
   "cell_type": "code",
   "execution_count": 54,
   "id": "0c6631af",
   "metadata": {
    "papermill": {
     "duration": 0.028019,
     "end_time": "2023-01-18T12:07:18.847290",
     "exception": false,
     "start_time": "2023-01-18T12:07:18.819271",
     "status": "completed"
    },
    "tags": []
   },
   "outputs": [],
   "source": [
    "def get_random_indices(list_indices,size : int,random_seed = 123):\n",
    "    '''\n",
    "    Get random indices from list indices\n",
    "\n",
    "    Parameters\n",
    "    ----------\n",
    "    list_indices: list\n",
    "        List of indices\n",
    "    size: int\n",
    "        Size of random indices\n",
    "    random_seed: int\n",
    "        Random seed for random state\n",
    "\n",
    "    Returns\n",
    "    -------\n",
    "    random_indices: list\n",
    "\n",
    "    '''\n",
    "    np.random.seed(random_seed)\n",
    "    random_indices = np.random.choice(list_indices,size = size,replace=False)\n",
    "    return random_indices "
   ]
  },
  {
   "cell_type": "code",
   "execution_count": 55,
   "id": "6bc5c5dc",
   "metadata": {
    "papermill": {
     "duration": 0.029112,
     "end_time": "2023-01-18T12:07:18.895060",
     "exception": false,
     "start_time": "2023-01-18T12:07:18.865948",
     "status": "completed"
    },
    "tags": []
   },
   "outputs": [],
   "source": [
    "random_passed_indices = get_random_indices(passed_indices,size = len(failed_indices),random_seed=2)\n",
    "X_us = np.concatenate((X[random_passed_indices],X[failed_indices]),axis=0)"
   ]
  },
  {
   "cell_type": "code",
   "execution_count": 56,
   "id": "9b57bb42",
   "metadata": {
    "papermill": {
     "duration": 0.028972,
     "end_time": "2023-01-18T12:07:18.942928",
     "exception": false,
     "start_time": "2023-01-18T12:07:18.913956",
     "status": "completed"
    },
    "tags": []
   },
   "outputs": [
    {
     "data": {
      "text/plain": [
       "(208, 562)"
      ]
     },
     "execution_count": 56,
     "metadata": {},
     "output_type": "execute_result"
    }
   ],
   "source": [
    "X_us.shape"
   ]
  },
  {
   "cell_type": "code",
   "execution_count": 57,
   "id": "ff78b4f2",
   "metadata": {
    "papermill": {
     "duration": 0.032584,
     "end_time": "2023-01-18T12:07:18.994268",
     "exception": false,
     "start_time": "2023-01-18T12:07:18.961684",
     "status": "completed"
    },
    "tags": []
   },
   "outputs": [
    {
     "data": {
      "text/plain": [
       "(104, 104)"
      ]
     },
     "execution_count": 57,
     "metadata": {},
     "output_type": "execute_result"
    }
   ],
   "source": [
    "y_us = y.iloc[random_passed_indices].append(y.iloc[failed_indices])\n",
    "len(y_us[y_us[target] == -1]),len(y_us[y_us[target] == 1])"
   ]
  },
  {
   "cell_type": "markdown",
   "id": "6eb9dc06",
   "metadata": {
    "papermill": {
     "duration": 0.018668,
     "end_time": "2023-01-18T12:07:19.031758",
     "exception": false,
     "start_time": "2023-01-18T12:07:19.013090",
     "status": "completed"
    },
    "tags": []
   },
   "source": [
    "#### 2.4b Processing imbalance data by over sampling"
   ]
  },
  {
   "cell_type": "code",
   "execution_count": 58,
   "id": "7890fcd2",
   "metadata": {
    "papermill": {
     "duration": 0.027907,
     "end_time": "2023-01-18T12:07:19.078789",
     "exception": false,
     "start_time": "2023-01-18T12:07:19.050882",
     "status": "completed"
    },
    "tags": []
   },
   "outputs": [],
   "source": [
    "# os : over sampling\n",
    "X_os = X\n",
    "y_os = y"
   ]
  },
  {
   "cell_type": "markdown",
   "id": "3e77f720",
   "metadata": {
    "papermill": {
     "duration": 0.019143,
     "end_time": "2023-01-18T12:07:19.117347",
     "exception": false,
     "start_time": "2023-01-18T12:07:19.098204",
     "status": "completed"
    },
    "tags": []
   },
   "source": [
    "##### SVMSMOTE"
   ]
  },
  {
   "cell_type": "code",
   "execution_count": 59,
   "id": "e24bb8f9",
   "metadata": {
    "papermill": {
     "duration": 0.66623,
     "end_time": "2023-01-18T12:07:19.802456",
     "exception": false,
     "start_time": "2023-01-18T12:07:19.136226",
     "status": "completed"
    },
    "tags": []
   },
   "outputs": [],
   "source": [
    "from imblearn.over_sampling import SVMSMOTE\n",
    "smote = SVMSMOTE(random_state=123)\n",
    "X_os_svm,y_os_svm = smote.fit_resample(X_os,y_os)"
   ]
  },
  {
   "cell_type": "code",
   "execution_count": 2,
   "id": "9f4ed00b-3d8c-4797-8680-a320a2c40f9d",
   "metadata": {},
   "outputs": [],
   "source": [
    "# from imblearn.over_sampling import RandomOverSampler\n",
    "# RandomOverSampler??"
   ]
  },
  {
   "cell_type": "code",
   "execution_count": 60,
   "id": "f6d35fd7",
   "metadata": {
    "papermill": {
     "duration": 0.063483,
     "end_time": "2023-01-18T12:07:19.914904",
     "exception": false,
     "start_time": "2023-01-18T12:07:19.851421",
     "status": "completed"
    },
    "tags": []
   },
   "outputs": [
    {
     "data": {
      "text/plain": [
       "Pass/Fail\n",
       "-1           1463\n",
       " 1            562\n",
       "dtype: int64"
      ]
     },
     "execution_count": 60,
     "metadata": {},
     "output_type": "execute_result"
    }
   ],
   "source": [
    "y_os_svm.value_counts()"
   ]
  },
  {
   "cell_type": "markdown",
   "id": "10fef5a4",
   "metadata": {
    "papermill": {
     "duration": 0.019366,
     "end_time": "2023-01-18T12:07:19.953486",
     "exception": false,
     "start_time": "2023-01-18T12:07:19.934120",
     "status": "completed"
    },
    "tags": []
   },
   "source": [
    "##### SMOTE"
   ]
  },
  {
   "cell_type": "code",
   "execution_count": 61,
   "id": "7cc08b45",
   "metadata": {
    "papermill": {
     "duration": 0.069781,
     "end_time": "2023-01-18T12:07:20.042398",
     "exception": false,
     "start_time": "2023-01-18T12:07:19.972617",
     "status": "completed"
    },
    "tags": []
   },
   "outputs": [],
   "source": [
    "from imblearn.over_sampling import SMOTE\n",
    "smote = SMOTE(random_state=123)\n",
    "X_os_smote,y_os_smote = smote.fit_resample(X_os,y_os)"
   ]
  },
  {
   "cell_type": "code",
   "execution_count": 62,
   "id": "b8575aec",
   "metadata": {
    "papermill": {
     "duration": 0.053511,
     "end_time": "2023-01-18T12:07:20.146776",
     "exception": false,
     "start_time": "2023-01-18T12:07:20.093265",
     "status": "completed"
    },
    "tags": []
   },
   "outputs": [
    {
     "data": {
      "text/plain": [
       "Pass/Fail\n",
       "-1           1463\n",
       " 1           1463\n",
       "dtype: int64"
      ]
     },
     "execution_count": 62,
     "metadata": {},
     "output_type": "execute_result"
    }
   ],
   "source": [
    "y_os_smote.value_counts()"
   ]
  },
  {
   "cell_type": "markdown",
   "id": "27931248",
   "metadata": {
    "papermill": {
     "duration": 0.018804,
     "end_time": "2023-01-18T12:07:20.184752",
     "exception": false,
     "start_time": "2023-01-18T12:07:20.165948",
     "status": "completed"
    },
    "tags": []
   },
   "source": [
    "## 3. Using xgbost to learn"
   ]
  },
  {
   "cell_type": "code",
   "execution_count": 63,
   "id": "d67b27f8",
   "metadata": {
    "papermill": {
     "duration": 0.034998,
     "end_time": "2023-01-18T12:07:20.238858",
     "exception": false,
     "start_time": "2023-01-18T12:07:20.203860",
     "status": "completed"
    },
    "tags": []
   },
   "outputs": [],
   "source": [
    "# Label encoding for target\n",
    "le = LabelEncoder()\n",
    "y_us = le.fit_transform(y_us)\n",
    "y_os_svm = le.transform(y_os_svm)\n",
    "y_os_smote = le.transform(y_os_smote)"
   ]
  },
  {
   "cell_type": "code",
   "execution_count": 64,
   "id": "b15045da",
   "metadata": {
    "papermill": {
     "duration": 0.029994,
     "end_time": "2023-01-18T12:07:20.288539",
     "exception": false,
     "start_time": "2023-01-18T12:07:20.258545",
     "status": "completed"
    },
    "tags": []
   },
   "outputs": [
    {
     "data": {
      "text/plain": [
       "562"
      ]
     },
     "execution_count": 64,
     "metadata": {},
     "output_type": "execute_result"
    }
   ],
   "source": [
    "np.sum(y_os_svm == 1)"
   ]
  },
  {
   "cell_type": "code",
   "execution_count": 65,
   "id": "f341a3e8",
   "metadata": {
    "papermill": {
     "duration": 0.03028,
     "end_time": "2023-01-18T12:07:20.338895",
     "exception": false,
     "start_time": "2023-01-18T12:07:20.308615",
     "status": "completed"
    },
    "tags": []
   },
   "outputs": [],
   "source": [
    "def ConfusionMatrix(y_test, y_pred):\n",
    "    conf_matrix = confusion_matrix(y_test, y_pred)\n",
    "    print(conf_matrix)\n",
    "    print(classification_report(y_test, y_pred))\n",
    "    \n",
    "    fig, ax = plot_confusion_matrix(conf_mat=conf_matrix, figsize=(6, 6), cmap=plt.cm.Greens)\n",
    "    plt.xlabel('Predictions', fontsize=18)\n",
    "    plt.ylabel('Actuals', fontsize=18)\n",
    "    plt.title('Confusion Matrix', fontsize=18)\n",
    "    plt.show()"
   ]
  },
  {
   "cell_type": "code",
   "execution_count": 66,
   "id": "f59b331f",
   "metadata": {
    "papermill": {
     "duration": 0.029918,
     "end_time": "2023-01-18T12:07:20.388551",
     "exception": false,
     "start_time": "2023-01-18T12:07:20.358633",
     "status": "completed"
    },
    "tags": []
   },
   "outputs": [],
   "source": [
    "def get_recall_value(y_test,y_pred):\n",
    "    '''\n",
    "    Get recall value from confusion matrix\n",
    "\n",
    "    Parameters\n",
    "    ----------\n",
    "    y_test: array\n",
    "        Array of y test\n",
    "    y_pred: array\n",
    "        Array of y predict\n",
    "\n",
    "    Returns\n",
    "    -------\n",
    "    recall_value: float\n",
    "        Recall value\n",
    "    '''\n",
    "    conf_matrix = confusion_matrix(y_test, y_pred)\n",
    "    recall = conf_matrix[1][1]/(conf_matrix[1][1] + conf_matrix[1][0])\n",
    "    return np.round(recall,2)"
   ]
  },
  {
   "cell_type": "markdown",
   "id": "ddaafa56",
   "metadata": {
    "papermill": {
     "duration": 0.01901,
     "end_time": "2023-01-18T12:07:20.427547",
     "exception": false,
     "start_time": "2023-01-18T12:07:20.408537",
     "status": "completed"
    },
    "tags": []
   },
   "source": [
    "### 3.1 Under sampling data set"
   ]
  },
  {
   "cell_type": "code",
   "execution_count": 67,
   "id": "a9380cae",
   "metadata": {
    "papermill": {
     "duration": 0.031159,
     "end_time": "2023-01-18T12:07:20.478619",
     "exception": false,
     "start_time": "2023-01-18T12:07:20.447460",
     "status": "completed"
    },
    "tags": []
   },
   "outputs": [
    {
     "data": {
      "text/plain": [
       "((208, 562), (208,))"
      ]
     },
     "execution_count": 67,
     "metadata": {},
     "output_type": "execute_result"
    }
   ],
   "source": [
    "X_us.shape,y_us.shape"
   ]
  },
  {
   "cell_type": "code",
   "execution_count": 68,
   "id": "3cad0e28",
   "metadata": {
    "papermill": {
     "duration": 0.029387,
     "end_time": "2023-01-18T12:07:20.527944",
     "exception": false,
     "start_time": "2023-01-18T12:07:20.498557",
     "status": "completed"
    },
    "tags": []
   },
   "outputs": [],
   "source": [
    "# Split data\n",
    "X_train_us,X_test_us,y_train_us,y_test_us = train_test_split(X_us,y_us,test_size=0.2,random_state=0)"
   ]
  },
  {
   "cell_type": "code",
   "execution_count": 69,
   "id": "c2d84a50",
   "metadata": {
    "papermill": {
     "duration": 0.030353,
     "end_time": "2023-01-18T12:07:20.577673",
     "exception": false,
     "start_time": "2023-01-18T12:07:20.547320",
     "status": "completed"
    },
    "tags": []
   },
   "outputs": [
    {
     "data": {
      "text/plain": [
       "(166, 42)"
      ]
     },
     "execution_count": 69,
     "metadata": {},
     "output_type": "execute_result"
    }
   ],
   "source": [
    "len(X_train_us),len(X_test_us)"
   ]
  },
  {
   "cell_type": "code",
   "execution_count": 70,
   "id": "2b1a4273",
   "metadata": {
    "papermill": {
     "duration": 0.646371,
     "end_time": "2023-01-18T12:07:21.243622",
     "exception": false,
     "start_time": "2023-01-18T12:07:20.597251",
     "status": "completed"
    },
    "tags": []
   },
   "outputs": [
    {
     "data": {
      "text/plain": [
       "XGBClassifier(base_score=None, booster=None, callbacks=None,\n",
       "              colsample_bylevel=None, colsample_bynode=None,\n",
       "              colsample_bytree=None, early_stopping_rounds=None,\n",
       "              enable_categorical=False, eval_metric='logloss',\n",
       "              feature_types=None, gamma=None, gpu_id=None, grow_policy=None,\n",
       "              importance_type=None, interaction_constraints=None,\n",
       "              learning_rate=None, max_bin=None, max_cat_threshold=None,\n",
       "              max_cat_to_onehot=None, max_delta_step=None, max_depth=None,\n",
       "              max_leaves=None, min_child_weight=None, missing=nan,\n",
       "              monotone_constraints=None, n_estimators=100, n_jobs=None,\n",
       "              num_parallel_tree=None, predictor=None, random_state=123, ...)"
      ]
     },
     "execution_count": 70,
     "metadata": {},
     "output_type": "execute_result"
    }
   ],
   "source": [
    "xgb_model_os = xgb.XGBClassifier(objective='binary:logistic',eval_metric='logloss',random_state=123)\n",
    "xgb_model_os.fit(X_train_us,y_train_us)"
   ]
  },
  {
   "cell_type": "code",
   "execution_count": 71,
   "id": "38de686e",
   "metadata": {
    "papermill": {
     "duration": 0.03493,
     "end_time": "2023-01-18T12:07:21.298936",
     "exception": false,
     "start_time": "2023-01-18T12:07:21.264006",
     "status": "completed"
    },
    "tags": []
   },
   "outputs": [],
   "source": [
    "y_pred_us = xgb_model_os.predict(X_test_us)"
   ]
  },
  {
   "cell_type": "code",
   "execution_count": 72,
   "id": "bf8f4d2b",
   "metadata": {
    "papermill": {
     "duration": 0.191562,
     "end_time": "2023-01-18T12:07:21.512443",
     "exception": false,
     "start_time": "2023-01-18T12:07:21.320881",
     "status": "completed"
    },
    "tags": []
   },
   "outputs": [
    {
     "name": "stdout",
     "output_type": "stream",
     "text": [
      "[[10 11]\n",
      " [ 7 14]]\n",
      "              precision    recall  f1-score   support\n",
      "\n",
      "           0       0.59      0.48      0.53        21\n",
      "           1       0.56      0.67      0.61        21\n",
      "\n",
      "    accuracy                           0.57        42\n",
      "   macro avg       0.57      0.57      0.57        42\n",
      "weighted avg       0.57      0.57      0.57        42\n",
      "\n"
     ]
    },
    {
     "data": {
      "image/png": "[encoded data removed]",
      "text/plain": [
       "<Figure size 432x432 with 1 Axes>"
      ]
     },
     "metadata": {
      "needs_background": "light"
     },
     "output_type": "display_data"
    }
   ],
   "source": [
    "ConfusionMatrix(y_test_us,y_pred_us)"
   ]
  },
  {
   "cell_type": "code",
   "execution_count": 73,
   "id": "28a8a3e5",
   "metadata": {
    "papermill": {
     "duration": 0.031734,
     "end_time": "2023-01-18T12:07:21.584413",
     "exception": false,
     "start_time": "2023-01-18T12:07:21.552679",
     "status": "completed"
    },
    "tags": []
   },
   "outputs": [
    {
     "data": {
      "text/plain": [
       "0.67"
      ]
     },
     "execution_count": 73,
     "metadata": {},
     "output_type": "execute_result"
    }
   ],
   "source": [
    "recall_value_us = get_recall_value(y_test_us,y_pred_us)\n",
    "recall_value_us "
   ]
  },
  {
   "cell_type": "markdown",
   "id": "5187da52",
   "metadata": {
    "papermill": {
     "duration": 0.019918,
     "end_time": "2023-01-18T12:07:21.624792",
     "exception": false,
     "start_time": "2023-01-18T12:07:21.604874",
     "status": "completed"
    },
    "tags": []
   },
   "source": [
    "**Apply Weights to do penalty on defect cases to force loss function to make defects must be correctly classified**"
   ]
  },
  {
   "cell_type": "code",
   "execution_count": 74,
   "id": "3f84dce8",
   "metadata": {
    "papermill": {
     "duration": 0.04405,
     "end_time": "2023-01-18T12:07:21.688983",
     "exception": false,
     "start_time": "2023-01-18T12:07:21.644933",
     "status": "completed"
    },
    "tags": []
   },
   "outputs": [
    {
     "data": {
      "text/html": [
       "<div>\n",
       "<style scoped>\n",
       "    .dataframe tbody tr th:only-of-type {\n",
       "        vertical-align: middle;\n",
       "    }\n",
       "\n",
       "    .dataframe tbody tr th {\n",
       "        vertical-align: top;\n",
       "    }\n",
       "\n",
       "    .dataframe thead th {\n",
       "        text-align: right;\n",
       "    }\n",
       "</style>\n",
       "<table border=\"1\" class=\"dataframe\">\n",
       "  <thead>\n",
       "    <tr style=\"text-align: right;\">\n",
       "      <th></th>\n",
       "      <th>Pass/Fail</th>\n",
       "      <th>Weighted</th>\n",
       "    </tr>\n",
       "  </thead>\n",
       "  <tbody>\n",
       "    <tr>\n",
       "      <th>0</th>\n",
       "      <td>-1</td>\n",
       "      <td>0.535543</td>\n",
       "    </tr>\n",
       "    <tr>\n",
       "      <th>1</th>\n",
       "      <td>-1</td>\n",
       "      <td>0.535543</td>\n",
       "    </tr>\n",
       "    <tr>\n",
       "      <th>2</th>\n",
       "      <td>1</td>\n",
       "      <td>7.533654</td>\n",
       "    </tr>\n",
       "    <tr>\n",
       "      <th>3</th>\n",
       "      <td>-1</td>\n",
       "      <td>0.535543</td>\n",
       "    </tr>\n",
       "    <tr>\n",
       "      <th>4</th>\n",
       "      <td>-1</td>\n",
       "      <td>0.535543</td>\n",
       "    </tr>\n",
       "  </tbody>\n",
       "</table>\n",
       "</div>"
      ],
      "text/plain": [
       "   Pass/Fail  Weighted\n",
       "0         -1  0.535543\n",
       "1         -1  0.535543\n",
       "2          1  7.533654\n",
       "3         -1  0.535543\n",
       "4         -1  0.535543"
      ]
     },
     "metadata": {},
     "output_type": "display_data"
    },
    {
     "data": {
      "text/plain": [
       "Pass/Fail  Weighted\n",
       "-1         0.535543    1463\n",
       " 1         7.533654     104\n",
       "dtype: int64"
      ]
     },
     "metadata": {},
     "output_type": "display_data"
    }
   ],
   "source": [
    "y_weight = pd.DataFrame(df[target])\n",
    "y_weight[\"Weighted\"]=compute_sample_weight(\"balanced\",y_weight[target])\n",
    "display(y_weight.head())\n",
    "display(y_weight.value_counts())"
   ]
  },
  {
   "cell_type": "code",
   "execution_count": 75,
   "id": "3e2696ec",
   "metadata": {
    "papermill": {
     "duration": 0.033335,
     "end_time": "2023-01-18T12:07:21.743011",
     "exception": false,
     "start_time": "2023-01-18T12:07:21.709676",
     "status": "completed"
    },
    "tags": []
   },
   "outputs": [
    {
     "data": {
      "text/plain": [
       "array([0.5355434 , 7.53365385])"
      ]
     },
     "execution_count": 75,
     "metadata": {},
     "output_type": "execute_result"
    }
   ],
   "source": [
    "weight_value = y_weight[\"Weighted\"].unique()\n",
    "weight_value"
   ]
  },
  {
   "cell_type": "code",
   "execution_count": 76,
   "id": "4667c3e7",
   "metadata": {
    "papermill": {
     "duration": 0.03004,
     "end_time": "2023-01-18T12:07:21.796517",
     "exception": false,
     "start_time": "2023-01-18T12:07:21.766477",
     "status": "completed"
    },
    "tags": []
   },
   "outputs": [],
   "source": [
    "weight_values = [weight_value[0] if value == 0 else weight_value[1] for value in y_train_us]"
   ]
  },
  {
   "cell_type": "code",
   "execution_count": 77,
   "id": "65ea4295",
   "metadata": {
    "papermill": {
     "duration": 0.656156,
     "end_time": "2023-01-18T12:07:22.473907",
     "exception": false,
     "start_time": "2023-01-18T12:07:21.817751",
     "status": "completed"
    },
    "tags": []
   },
   "outputs": [
    {
     "data": {
      "text/plain": [
       "XGBClassifier(base_score=None, booster=None, callbacks=None,\n",
       "              colsample_bylevel=None, colsample_bynode=None,\n",
       "              colsample_bytree=None, early_stopping_rounds=None,\n",
       "              enable_categorical=False, eval_metric='logloss',\n",
       "              feature_types=None, gamma=None, gpu_id=None, grow_policy=None,\n",
       "              importance_type=None, interaction_constraints=None,\n",
       "              learning_rate=None, max_bin=None, max_cat_threshold=None,\n",
       "              max_cat_to_onehot=None, max_delta_step=None, max_depth=None,\n",
       "              max_leaves=None, min_child_weight=None, missing=nan,\n",
       "              monotone_constraints=None, n_estimators=100, n_jobs=None,\n",
       "              num_parallel_tree=None, predictor=None, random_state=10, ...)"
      ]
     },
     "execution_count": 77,
     "metadata": {},
     "output_type": "execute_result"
    }
   ],
   "source": [
    "model_us_weight = xgb.XGBClassifier(eval_metric='logloss',random_state=10)\n",
    "model_us_weight.fit(X_train_us,y_train_us,sample_weight=weight_values)"
   ]
  },
  {
   "cell_type": "code",
   "execution_count": 78,
   "id": "7c0d2276",
   "metadata": {
    "papermill": {
     "duration": 0.196652,
     "end_time": "2023-01-18T12:07:22.691978",
     "exception": false,
     "start_time": "2023-01-18T12:07:22.495326",
     "status": "completed"
    },
    "tags": []
   },
   "outputs": [
    {
     "name": "stdout",
     "output_type": "stream",
     "text": [
      "[[ 9 12]\n",
      " [ 3 18]]\n",
      "              precision    recall  f1-score   support\n",
      "\n",
      "           0       0.75      0.43      0.55        21\n",
      "           1       0.60      0.86      0.71        21\n",
      "\n",
      "    accuracy                           0.64        42\n",
      "   macro avg       0.68      0.64      0.63        42\n",
      "weighted avg       0.68      0.64      0.63        42\n",
      "\n"
     ]
    },
    {
     "data": {
      "image/png": "[encoded data removed]",
      "text/plain": [
       "<Figure size 432x432 with 1 Axes>"
      ]
     },
     "metadata": {
      "needs_background": "light"
     },
     "output_type": "display_data"
    }
   ],
   "source": [
    "y_pred_us_weight = model_us_weight.predict(X_test_us)\n",
    "ConfusionMatrix(y_test_us,y_pred_us_weight)"
   ]
  },
  {
   "cell_type": "code",
   "execution_count": 79,
   "id": "5fb2d59e",
   "metadata": {
    "papermill": {
     "duration": 0.034817,
     "end_time": "2023-01-18T12:07:22.767257",
     "exception": false,
     "start_time": "2023-01-18T12:07:22.732440",
     "status": "completed"
    },
    "tags": []
   },
   "outputs": [
    {
     "data": {
      "text/plain": [
       "0.86"
      ]
     },
     "execution_count": 79,
     "metadata": {},
     "output_type": "execute_result"
    }
   ],
   "source": [
    "recall_value_us_weight = get_recall_value(y_test_us,y_pred_us_weight)\n",
    "recall_value_us_weight"
   ]
  },
  {
   "cell_type": "markdown",
   "id": "831cf573",
   "metadata": {
    "papermill": {
     "duration": 0.021319,
     "end_time": "2023-01-18T12:07:22.810743",
     "exception": false,
     "start_time": "2023-01-18T12:07:22.789424",
     "status": "completed"
    },
    "tags": []
   },
   "source": [
    "### 3.2 Over sampling data"
   ]
  },
  {
   "cell_type": "markdown",
   "id": "ddb67260",
   "metadata": {
    "papermill": {
     "duration": 0.021425,
     "end_time": "2023-01-18T12:07:22.853909",
     "exception": false,
     "start_time": "2023-01-18T12:07:22.832484",
     "status": "completed"
    },
    "tags": []
   },
   "source": [
    "#### 3.2a Using SMOTE"
   ]
  },
  {
   "cell_type": "code",
   "execution_count": 80,
   "id": "f5034502",
   "metadata": {
    "papermill": {
     "duration": 0.038039,
     "end_time": "2023-01-18T12:07:22.913771",
     "exception": false,
     "start_time": "2023-01-18T12:07:22.875732",
     "status": "completed"
    },
    "tags": []
   },
   "outputs": [],
   "source": [
    "from sklearn.model_selection import train_test_split\n",
    "X_os_sm_train,X_os_sm_test,y_os_sm_train,y_os_sm_test = train_test_split(X_os_smote,y_os_smote,test_size=0.2,random_state=0)"
   ]
  },
  {
   "cell_type": "code",
   "execution_count": 81,
   "id": "db90f7a7",
   "metadata": {
    "papermill": {
     "duration": 6.118151,
     "end_time": "2023-01-18T12:07:29.053679",
     "exception": false,
     "start_time": "2023-01-18T12:07:22.935528",
     "status": "completed"
    },
    "tags": []
   },
   "outputs": [
    {
     "data": {
      "text/plain": [
       "XGBClassifier(base_score=None, booster=None, callbacks=None,\n",
       "              colsample_bylevel=None, colsample_bynode=None,\n",
       "              colsample_bytree=None, early_stopping_rounds=None,\n",
       "              enable_categorical=False, eval_metric='logloss',\n",
       "              feature_types=None, gamma=None, gpu_id=None, grow_policy=None,\n",
       "              importance_type=None, interaction_constraints=None,\n",
       "              learning_rate=None, max_bin=None, max_cat_threshold=None,\n",
       "              max_cat_to_onehot=None, max_delta_step=None, max_depth=None,\n",
       "              max_leaves=None, min_child_weight=None, missing=nan,\n",
       "              monotone_constraints=None, n_estimators=100, n_jobs=None,\n",
       "              num_parallel_tree=None, predictor=None, random_state=123, ...)"
      ]
     },
     "execution_count": 81,
     "metadata": {},
     "output_type": "execute_result"
    }
   ],
   "source": [
    "import xgboost as xgb\n",
    "xgb_model_os_SMOTE = xgb.XGBClassifier(objective='binary:logistic',eval_metric='logloss',random_state=123)\n",
    "xgb_model_os_SMOTE.fit(X_os_sm_train,y_os_sm_train)"
   ]
  },
  {
   "cell_type": "code",
   "execution_count": 82,
   "id": "1e78c003",
   "metadata": {
    "papermill": {
     "duration": 0.195576,
     "end_time": "2023-01-18T12:07:29.272305",
     "exception": false,
     "start_time": "2023-01-18T12:07:29.076729",
     "status": "completed"
    },
    "tags": []
   },
   "outputs": [
    {
     "name": "stdout",
     "output_type": "stream",
     "text": [
      "[[305   2]\n",
      " [  5 274]]\n",
      "              precision    recall  f1-score   support\n",
      "\n",
      "           0       0.98      0.99      0.99       307\n",
      "           1       0.99      0.98      0.99       279\n",
      "\n",
      "    accuracy                           0.99       586\n",
      "   macro avg       0.99      0.99      0.99       586\n",
      "weighted avg       0.99      0.99      0.99       586\n",
      "\n"
     ]
    },
    {
     "data": {
      "image/png": "[encoded data removed]",
      "text/plain": [
       "<Figure size 432x432 with 1 Axes>"
      ]
     },
     "metadata": {
      "needs_background": "light"
     },
     "output_type": "display_data"
    }
   ],
   "source": [
    "y_os_sm_pred = xgb_model_os_SMOTE.predict(X_os_sm_test)\n",
    "ConfusionMatrix(y_os_sm_test,y_os_sm_pred)"
   ]
  },
  {
   "cell_type": "code",
   "execution_count": 83,
   "id": "53f0dbe4",
   "metadata": {
    "papermill": {
     "duration": 0.192731,
     "end_time": "2023-01-18T12:07:29.508840",
     "exception": false,
     "start_time": "2023-01-18T12:07:29.316109",
     "status": "completed"
    },
    "tags": []
   },
   "outputs": [
    {
     "name": "stdout",
     "output_type": "stream",
     "text": [
      "[[21  0]\n",
      " [ 2 19]]\n",
      "              precision    recall  f1-score   support\n",
      "\n",
      "           0       0.91      1.00      0.95        21\n",
      "           1       1.00      0.90      0.95        21\n",
      "\n",
      "    accuracy                           0.95        42\n",
      "   macro avg       0.96      0.95      0.95        42\n",
      "weighted avg       0.96      0.95      0.95        42\n",
      "\n"
     ]
    },
    {
     "data": {
      "image/png": "[encoded data removed]",
      "text/plain": [
       "<Figure size 432x432 with 1 Axes>"
      ]
     },
     "metadata": {
      "needs_background": "light"
     },
     "output_type": "display_data"
    }
   ],
   "source": [
    "# Using model in SMOTE data to predict undersampling data\n",
    "ConfusionMatrix(y_test_us,xgb_model_os_SMOTE.predict(X_test_us))"
   ]
  },
  {
   "cell_type": "code",
   "execution_count": 84,
   "id": "d41cce17",
   "metadata": {
    "papermill": {
     "duration": 0.050898,
     "end_time": "2023-01-18T12:07:29.605032",
     "exception": false,
     "start_time": "2023-01-18T12:07:29.554134",
     "status": "completed"
    },
    "tags": []
   },
   "outputs": [
    {
     "data": {
      "text/plain": [
       "0.9"
      ]
     },
     "execution_count": 84,
     "metadata": {},
     "output_type": "execute_result"
    }
   ],
   "source": [
    "recall_value_os_smote = get_recall_value(y_test_us,xgb_model_os_SMOTE.predict(X_test_us))\n",
    "recall_value_os_smote"
   ]
  },
  {
   "cell_type": "markdown",
   "id": "2986ebdd",
   "metadata": {
    "papermill": {
     "duration": 0.022737,
     "end_time": "2023-01-18T12:07:29.651013",
     "exception": false,
     "start_time": "2023-01-18T12:07:29.628276",
     "status": "completed"
    },
    "tags": []
   },
   "source": [
    "#### 3.2b Using SVMSMOTE"
   ]
  },
  {
   "cell_type": "code",
   "execution_count": 85,
   "id": "1c1787bc",
   "metadata": {
    "papermill": {
     "duration": 0.044063,
     "end_time": "2023-01-18T12:07:29.718614",
     "exception": false,
     "start_time": "2023-01-18T12:07:29.674551",
     "status": "completed"
    },
    "tags": []
   },
   "outputs": [],
   "source": [
    "\n",
    "X_os_svm_train,X_os_svm_test,y_os_svm_train,y_os_svm_test = train_test_split(X_os_svm,y_os_svm,test_size=0.2,random_state=0)"
   ]
  },
  {
   "cell_type": "code",
   "execution_count": 86,
   "id": "231fadec",
   "metadata": {
    "papermill": {
     "duration": 3.817333,
     "end_time": "2023-01-18T12:07:33.559793",
     "exception": false,
     "start_time": "2023-01-18T12:07:29.742460",
     "status": "completed"
    },
    "tags": []
   },
   "outputs": [
    {
     "data": {
      "text/plain": [
       "XGBClassifier(base_score=None, booster=None, callbacks=None,\n",
       "              colsample_bylevel=None, colsample_bynode=None,\n",
       "              colsample_bytree=None, early_stopping_rounds=None,\n",
       "              enable_categorical=False, eval_metric='logloss',\n",
       "              feature_types=None, gamma=None, gpu_id=None, grow_policy=None,\n",
       "              importance_type=None, interaction_constraints=None,\n",
       "              learning_rate=None, max_bin=None, max_cat_threshold=None,\n",
       "              max_cat_to_onehot=None, max_delta_step=None, max_depth=None,\n",
       "              max_leaves=None, min_child_weight=None, missing=nan,\n",
       "              monotone_constraints=None, n_estimators=100, n_jobs=None,\n",
       "              num_parallel_tree=None, predictor=None, random_state=123, ...)"
      ]
     },
     "execution_count": 86,
     "metadata": {},
     "output_type": "execute_result"
    }
   ],
   "source": [
    "model_os_SVMSMOTE = xgb.XGBClassifier(objective='binary:logistic',eval_metric='logloss',random_state=123)\n",
    "model_os_SVMSMOTE.fit(X_os_svm_train,y_os_svm_train)"
   ]
  },
  {
   "cell_type": "code",
   "execution_count": 87,
   "id": "a94f04da",
   "metadata": {
    "papermill": {
     "duration": 0.037575,
     "end_time": "2023-01-18T12:07:33.621838",
     "exception": false,
     "start_time": "2023-01-18T12:07:33.584263",
     "status": "completed"
    },
    "tags": []
   },
   "outputs": [],
   "source": [
    "y_os_svm_pred = model_os_SVMSMOTE.predict(X_os_svm_test)"
   ]
  },
  {
   "cell_type": "code",
   "execution_count": 88,
   "id": "afeb86b2",
   "metadata": {
    "papermill": {
     "duration": 0.189331,
     "end_time": "2023-01-18T12:07:33.837118",
     "exception": false,
     "start_time": "2023-01-18T12:07:33.647787",
     "status": "completed"
    },
    "tags": []
   },
   "outputs": [
    {
     "name": "stdout",
     "output_type": "stream",
     "text": [
      "[[290   7]\n",
      " [ 15  93]]\n",
      "              precision    recall  f1-score   support\n",
      "\n",
      "           0       0.95      0.98      0.96       297\n",
      "           1       0.93      0.86      0.89       108\n",
      "\n",
      "    accuracy                           0.95       405\n",
      "   macro avg       0.94      0.92      0.93       405\n",
      "weighted avg       0.95      0.95      0.94       405\n",
      "\n"
     ]
    },
    {
     "data": {
      "image/png": "[encoded data removed]",
      "text/plain": [
       "<Figure size 432x432 with 1 Axes>"
      ]
     },
     "metadata": {
      "needs_background": "light"
     },
     "output_type": "display_data"
    }
   ],
   "source": [
    "ConfusionMatrix(y_os_svm_test,y_os_svm_pred)"
   ]
  },
  {
   "cell_type": "code",
   "execution_count": 89,
   "id": "e8b2a9a3",
   "metadata": {
    "papermill": {
     "duration": 0.195792,
     "end_time": "2023-01-18T12:07:34.079565",
     "exception": false,
     "start_time": "2023-01-18T12:07:33.883773",
     "status": "completed"
    },
    "tags": []
   },
   "outputs": [
    {
     "name": "stdout",
     "output_type": "stream",
     "text": [
      "[[21  0]\n",
      " [ 2 19]]\n",
      "              precision    recall  f1-score   support\n",
      "\n",
      "           0       0.91      1.00      0.95        21\n",
      "           1       1.00      0.90      0.95        21\n",
      "\n",
      "    accuracy                           0.95        42\n",
      "   macro avg       0.96      0.95      0.95        42\n",
      "weighted avg       0.96      0.95      0.95        42\n",
      "\n"
     ]
    },
    {
     "data": {
      "image/png": "[encoded data removed]",
      "text/plain": [
       "<Figure size 432x432 with 1 Axes>"
      ]
     },
     "metadata": {
      "needs_background": "light"
     },
     "output_type": "display_data"
    }
   ],
   "source": [
    "# Test model of svm data in undersampling data\n",
    "ConfusionMatrix(y_test_us,model_os_SVMSMOTE.predict(X_test_us))"
   ]
  },
  {
   "cell_type": "code",
   "execution_count": 90,
   "id": "444de589",
   "metadata": {
    "papermill": {
     "duration": 0.042859,
     "end_time": "2023-01-18T12:07:34.148141",
     "exception": false,
     "start_time": "2023-01-18T12:07:34.105282",
     "status": "completed"
    },
    "tags": []
   },
   "outputs": [
    {
     "data": {
      "text/plain": [
       "0.9"
      ]
     },
     "execution_count": 90,
     "metadata": {},
     "output_type": "execute_result"
    }
   ],
   "source": [
    "recall_value_os_svm = get_recall_value(y_test_us,model_os_SVMSMOTE.predict(X_test_us))\n",
    "recall_value_os_svm"
   ]
  },
  {
   "cell_type": "markdown",
   "id": "8766fdc8",
   "metadata": {
    "papermill": {
     "duration": 0.024524,
     "end_time": "2023-01-18T12:07:34.198232",
     "exception": false,
     "start_time": "2023-01-18T12:07:34.173708",
     "status": "completed"
    },
    "tags": []
   },
   "source": [
    "## 4. Summary"
   ]
  },
  {
   "cell_type": "code",
   "execution_count": 91,
   "id": "e7e22b97",
   "metadata": {
    "papermill": {
     "duration": 0.041792,
     "end_time": "2023-01-18T12:07:34.265245",
     "exception": false,
     "start_time": "2023-01-18T12:07:34.223453",
     "status": "completed"
    },
    "tags": []
   },
   "outputs": [
    {
     "data": {
      "text/html": [
       "<div>\n",
       "<style scoped>\n",
       "    .dataframe tbody tr th:only-of-type {\n",
       "        vertical-align: middle;\n",
       "    }\n",
       "\n",
       "    .dataframe tbody tr th {\n",
       "        vertical-align: top;\n",
       "    }\n",
       "\n",
       "    .dataframe thead th {\n",
       "        text-align: right;\n",
       "    }\n",
       "</style>\n",
       "<table border=\"1\" class=\"dataframe\">\n",
       "  <thead>\n",
       "    <tr style=\"text-align: right;\">\n",
       "      <th></th>\n",
       "      <th>Model</th>\n",
       "      <th>Recall</th>\n",
       "    </tr>\n",
       "  </thead>\n",
       "  <tbody>\n",
       "    <tr>\n",
       "      <th>1</th>\n",
       "      <td>Undersampling</td>\n",
       "      <td>0.67</td>\n",
       "    </tr>\n",
       "    <tr>\n",
       "      <th>2</th>\n",
       "      <td>Undersampling with Weight</td>\n",
       "      <td>0.86</td>\n",
       "    </tr>\n",
       "    <tr>\n",
       "      <th>3</th>\n",
       "      <td>SMOTE</td>\n",
       "      <td>0.90</td>\n",
       "    </tr>\n",
       "    <tr>\n",
       "      <th>4</th>\n",
       "      <td>SMOTE with SVM</td>\n",
       "      <td>0.90</td>\n",
       "    </tr>\n",
       "  </tbody>\n",
       "</table>\n",
       "</div>"
      ],
      "text/plain": [
       "                       Model  Recall\n",
       "1              Undersampling    0.67\n",
       "2  Undersampling with Weight    0.86\n",
       "3                      SMOTE    0.90\n",
       "4             SMOTE with SVM    0.90"
      ]
     },
     "execution_count": 91,
     "metadata": {},
     "output_type": "execute_result"
    }
   ],
   "source": [
    "summary_table = pd.DataFrame({\"Model\":[\"Undersampling\",\"Undersampling with Weight\",\"SMOTE\",\"SMOTE with SVM\"],\"Recall\":[recall_value_us,recall_value_us_weight,recall_value_os_smote,recall_value_os_svm]},index=[1,2,3,4])\n",
    "summary_table"
   ]
  },
  {
   "cell_type": "markdown",
   "id": "5c0e203d",
   "metadata": {
    "papermill": {
     "duration": 0.024096,
     "end_time": "2023-01-18T12:07:34.314234",
     "exception": false,
     "start_time": "2023-01-18T12:07:34.290138",
     "status": "completed"
    },
    "tags": []
   },
   "source": [
    "Conclusion:\n",
    "+ We get highest value when using \"SMOTE and SMOTE with SVM\"\n",
    "+ Under sampling with weight can increase recall value when using under sampling\n"
   ]
  }
 ],
 "metadata": {
  "kernelspec": {
   "display_name": "Python 3 (ipykernel)",
   "language": "python",
   "name": "python3"
  },
  "language_info": {
   "codemirror_mode": {
    "name": "ipython",
    "version": 3
   },
   "file_extension": ".py",
   "mimetype": "text/x-python",
   "name": "python",
   "nbconvert_exporter": "python",
   "pygments_lexer": "ipython3",
   "version": "3.9.12"
  },
  "papermill": {
   "default_parameters": {},
   "duration": 31.344206,
   "end_time": "2023-01-18T12:07:35.162551",
   "environment_variables": {},
   "exception": null,
   "input_path": "__notebook__.ipynb",
   "output_path": "__notebook__.ipynb",
   "parameters": {},
   "start_time": "2023-01-18T12:07:03.818345",
   "version": "2.3.4"
  }
 },
 "nbformat": 4,
 "nbformat_minor": 5
}
